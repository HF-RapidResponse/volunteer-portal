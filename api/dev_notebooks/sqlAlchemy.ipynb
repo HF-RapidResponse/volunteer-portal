{
 "cells": [
  {
   "cell_type": "code",
   "execution_count": 1,
   "id": "d0dab924",
   "metadata": {
    "collapsed": false
   },
   "outputs": [],
   "source": [
    "from models.base import Base\n",
    "from sqlalchemy.orm import backref, column_property, relationship, synonym, validates, sessionmaker\n",
    "from sqlalchemy import Boolean\n",
    "from sqlalchemy_utils.functions import drop_database, create_database"
   ]
  },
  {
   "cell_type": "code",
   "execution_count": 2,
   "id": "0d4021b2",
   "metadata": {
    "collapsed": false
   },
   "outputs": [],
   "source": [
    "import sqlalchemy\n",
    "from sqlalchemy import create_engine, ForeignKey\n",
    "url = 'postgresql://admin:password@db:5432/test'\n",
    "drop_database(url)\n",
    "\n"
   ]
  },
  {
   "cell_type": "code",
   "execution_count": 3,
   "id": "0d3e3fd3",
   "metadata": {
    "collapsed": false
   },
   "outputs": [],
   "source": [
    "create_database(url)\n",
    "engine = create_engine(url, echo=True)"
   ]
  },
  {
   "cell_type": "code",
   "execution_count": 4,
   "id": "841f24d4",
   "metadata": {
    "collapsed": false
   },
   "outputs": [],
   "source": [
    "from sqlalchemy import Column, Integer, String"
   ]
  },
  {
   "cell_type": "code",
   "execution_count": 5,
   "id": "65426d38",
   "metadata": {
    "collapsed": false
   },
   "outputs": [],
   "source": [
    "# with cascade delete on identifier\n",
    "#deleting the identifier does nothing with cascae delete on Identifier user relation\n",
    "#deleting the user does not cascade to its related identifiers"
   ]
  },
  {
   "cell_type": "code",
   "execution_count": 6,
   "id": "51517092",
   "metadata": {
    "collapsed": false
   },
   "outputs": [],
   "source": [
    "# with cascade delete on user - deleting identifier does nothing\n",
    "# deleting user deletes the identifiers"
   ]
  },
  {
   "cell_type": "code",
   "execution_count": 7,
   "id": "032ef849",
   "metadata": {
    "collapsed": false
   },
   "outputs": [],
   "source": [
    "class Identifier(Base):\n",
    "  __tablename__ = 'ids'\n",
    "\n",
    "  id = Column(Integer, primary_key=True)\n",
    "  value = Column(String)\n",
    "  verified = Column(Boolean, default=False, nullable=False)\n",
    "  user_uid = Column(Integer, ForeignKey('users.id'))\n",
    "  user = relationship('User', foreign_keys=[user_uid], backref='id2')\n",
    "\n",
    "  def verify(self):\n",
    "    self.verified = True"
   ]
  },
  {
   "cell_type": "code",
   "execution_count": 8,
   "id": "ee85cc9e",
   "metadata": {
    "collapsed": false
   },
   "outputs": [],
   "source": [
    "class User(Base):\n",
    "  __tablename__ = 'users'\n",
    "\n",
    "  id = Column(Integer, primary_key=True)\n",
    "  name = Column(String)\n",
    "  identifiers = relationship('Identifier', foreign_keys=[Identifier.user_uid], cascade='save-update, merge, delete')\n",
    "\n",
    "  def verify(self):\n",
    "    for i in self.identifiers:\n",
    "      i.verified = True"
   ]
  },
  {
   "cell_type": "code",
   "execution_count": 9,
   "id": "6f71cfc3",
   "metadata": {
    "collapsed": false
   },
   "outputs": [],
   "source": [
    "Session = sessionmaker(binds={\n",
    "  Identifier:engine,\n",
    "  User:engine,})\n",
    "session = Session()"
   ]
  },
  {
   "cell_type": "code",
   "execution_count": 10,
   "id": "77c1008b",
   "metadata": {
    "collapsed": false
   },
   "outputs": [
    {
     "name": "stdout",
     "output_type": "stream",
     "text": [
      "2021-05-22 17:58:44,030 INFO sqlalchemy.engine.base.Engine select version()\n"
     ]
    },
    {
     "name": "stdout",
     "output_type": "stream",
     "text": [
      "2021-05-22 17:58:44,031 INFO sqlalchemy.engine.base.Engine {}\n"
     ]
    },
    {
     "name": "stdout",
     "output_type": "stream",
     "text": [
      "2021-05-22 17:58:44,032 INFO sqlalchemy.engine.base.Engine select current_schema()\n"
     ]
    },
    {
     "name": "stdout",
     "output_type": "stream",
     "text": [
      "2021-05-22 17:58:44,032 INFO sqlalchemy.engine.base.Engine {}\n"
     ]
    },
    {
     "name": "stdout",
     "output_type": "stream",
     "text": [
      "2021-05-22 17:58:44,034 INFO sqlalchemy.engine.base.Engine SELECT CAST('test plain returns' AS VARCHAR(60)) AS anon_1\n"
     ]
    },
    {
     "name": "stdout",
     "output_type": "stream",
     "text": [
      "2021-05-22 17:58:44,035 INFO sqlalchemy.engine.base.Engine {}\n"
     ]
    },
    {
     "name": "stdout",
     "output_type": "stream",
     "text": [
      "2021-05-22 17:58:44,036 INFO sqlalchemy.engine.base.Engine SELECT CAST('test unicode returns' AS VARCHAR(60)) AS anon_1\n"
     ]
    },
    {
     "name": "stdout",
     "output_type": "stream",
     "text": [
      "2021-05-22 17:58:44,036 INFO sqlalchemy.engine.base.Engine {}\n"
     ]
    },
    {
     "name": "stdout",
     "output_type": "stream",
     "text": [
      "2021-05-22 17:58:44,037 INFO sqlalchemy.engine.base.Engine show standard_conforming_strings\n"
     ]
    },
    {
     "name": "stdout",
     "output_type": "stream",
     "text": [
      "2021-05-22 17:58:44,038 INFO sqlalchemy.engine.base.Engine {}\n"
     ]
    },
    {
     "name": "stdout",
     "output_type": "stream",
     "text": [
      "2021-05-22 17:58:44,039 INFO sqlalchemy.engine.base.Engine select relname from pg_class c join pg_namespace n on n.oid=c.relnamespace where pg_catalog.pg_table_is_visible(c.oid) and relname=%(name)s\n"
     ]
    },
    {
     "name": "stdout",
     "output_type": "stream",
     "text": [
      "2021-05-22 17:58:44,040 INFO sqlalchemy.engine.base.Engine {'name': 'events'}\n"
     ]
    },
    {
     "name": "stdout",
     "output_type": "stream",
     "text": [
      "2021-05-22 17:58:44,041 INFO sqlalchemy.engine.base.Engine select relname from pg_class c join pg_namespace n on n.oid=c.relnamespace where pg_catalog.pg_table_is_visible(c.oid) and relname=%(name)s\n"
     ]
    },
    {
     "name": "stdout",
     "output_type": "stream",
     "text": [
      "2021-05-22 17:58:44,042 INFO sqlalchemy.engine.base.Engine {'name': 'volunteer_openings'}\n"
     ]
    },
    {
     "name": "stdout",
     "output_type": "stream",
     "text": [
      "2021-05-22 17:58:44,043 INFO sqlalchemy.engine.base.Engine select relname from pg_class c join pg_namespace n on n.oid=c.relnamespace where pg_catalog.pg_table_is_visible(c.oid) and relname=%(name)s\n"
     ]
    },
    {
     "name": "stdout",
     "output_type": "stream",
     "text": [
      "2021-05-22 17:58:44,043 INFO sqlalchemy.engine.base.Engine {'name': 'initiatives'}\n"
     ]
    },
    {
     "name": "stdout",
     "output_type": "stream",
     "text": [
      "2021-05-22 17:58:44,045 INFO sqlalchemy.engine.base.Engine select relname from pg_class c join pg_namespace n on n.oid=c.relnamespace where pg_catalog.pg_table_is_visible(c.oid) and relname=%(name)s\n"
     ]
    },
    {
     "name": "stdout",
     "output_type": "stream",
     "text": [
      "2021-05-22 17:58:44,045 INFO sqlalchemy.engine.base.Engine {'name': 'notifications'}\n"
     ]
    },
    {
     "name": "stdout",
     "output_type": "stream",
     "text": [
      "2021-05-22 17:58:44,047 INFO sqlalchemy.engine.base.Engine select relname from pg_class c join pg_namespace n on n.oid=c.relnamespace where pg_catalog.pg_table_is_visible(c.oid) and relname=%(name)s\n"
     ]
    },
    {
     "name": "stdout",
     "output_type": "stream",
     "text": [
      "2021-05-22 17:58:44,047 INFO sqlalchemy.engine.base.Engine {'name': 'personal_identifiers'}\n"
     ]
    },
    {
     "name": "stdout",
     "output_type": "stream",
     "text": [
      "2021-05-22 17:58:44,049 INFO sqlalchemy.engine.base.Engine select relname from pg_class c join pg_namespace n on n.oid=c.relnamespace where pg_catalog.pg_table_is_visible(c.oid) and relname=%(name)s\n"
     ]
    },
    {
     "name": "stdout",
     "output_type": "stream",
     "text": [
      "2021-05-22 17:58:44,049 INFO sqlalchemy.engine.base.Engine {'name': 'verification_tokens'}\n"
     ]
    },
    {
     "name": "stdout",
     "output_type": "stream",
     "text": [
      "2021-05-22 17:58:44,050 INFO sqlalchemy.engine.base.Engine select relname from pg_class c join pg_namespace n on n.oid=c.relnamespace where pg_catalog.pg_table_is_visible(c.oid) and relname=%(name)s\n"
     ]
    },
    {
     "name": "stdout",
     "output_type": "stream",
     "text": [
      "2021-05-22 17:58:44,051 INFO sqlalchemy.engine.base.Engine {'name': 'account_settings'}\n"
     ]
    },
    {
     "name": "stdout",
     "output_type": "stream",
     "text": [
      "2021-05-22 17:58:44,052 INFO sqlalchemy.engine.base.Engine select relname from pg_class c join pg_namespace n on n.oid=c.relnamespace where pg_catalog.pg_table_is_visible(c.oid) and relname=%(name)s\n"
     ]
    },
    {
     "name": "stdout",
     "output_type": "stream",
     "text": [
      "2021-05-22 17:58:44,052 INFO sqlalchemy.engine.base.Engine {'name': 'accounts'}\n"
     ]
    },
    {
     "name": "stdout",
     "output_type": "stream",
     "text": [
      "2021-05-22 17:58:44,054 INFO sqlalchemy.engine.base.Engine select relname from pg_class c join pg_namespace n on n.oid=c.relnamespace where pg_catalog.pg_table_is_visible(c.oid) and relname=%(name)s\n"
     ]
    },
    {
     "name": "stdout",
     "output_type": "stream",
     "text": [
      "2021-05-22 17:58:44,054 INFO sqlalchemy.engine.base.Engine {'name': 'ids'}\n"
     ]
    },
    {
     "name": "stdout",
     "output_type": "stream",
     "text": [
      "2021-05-22 17:58:44,055 INFO sqlalchemy.engine.base.Engine select relname from pg_class c join pg_namespace n on n.oid=c.relnamespace where pg_catalog.pg_table_is_visible(c.oid) and relname=%(name)s\n"
     ]
    },
    {
     "name": "stdout",
     "output_type": "stream",
     "text": [
      "2021-05-22 17:58:44,056 INFO sqlalchemy.engine.base.Engine {'name': 'users'}\n"
     ]
    },
    {
     "name": "stdout",
     "output_type": "stream",
     "text": [
      "2021-05-22 17:58:44,058 INFO sqlalchemy.engine.base.Engine \n",
      "            SELECT EXISTS (\n",
      "                SELECT * FROM pg_catalog.pg_type t\n",
      "                WHERE t.typname = %(typname)s\n",
      "                AND pg_type_is_visible(t.oid)\n",
      "                )\n",
      "                \n"
     ]
    },
    {
     "name": "stdout",
     "output_type": "stream",
     "text": [
      "2021-05-22 17:58:44,059 INFO sqlalchemy.engine.base.Engine {'typname': 'priority'}\n"
     ]
    },
    {
     "name": "stdout",
     "output_type": "stream",
     "text": [
      "2021-05-22 17:58:44,060 INFO sqlalchemy.engine.base.Engine CREATE TYPE priority AS ENUM ('TOP_PRIORITY', 'HIGH', 'MEDIUM', 'LOW', 'COULD_BE_NICE', 'NONE')\n"
     ]
    },
    {
     "name": "stdout",
     "output_type": "stream",
     "text": [
      "2021-05-22 17:58:44,061 INFO sqlalchemy.engine.base.Engine {}\n"
     ]
    },
    {
     "name": "stdout",
     "output_type": "stream",
     "text": [
      "2021-05-22 17:58:44,062 INFO sqlalchemy.engine.base.Engine COMMIT\n"
     ]
    },
    {
     "name": "stdout",
     "output_type": "stream",
     "text": [
      "2021-05-22 17:58:44,066 INFO sqlalchemy.engine.base.Engine \n",
      "            SELECT EXISTS (\n",
      "                SELECT * FROM pg_catalog.pg_type t\n",
      "                WHERE t.typname = %(typname)s\n",
      "                AND pg_type_is_visible(t.oid)\n",
      "                )\n",
      "                \n"
     ]
    },
    {
     "name": "stdout",
     "output_type": "stream",
     "text": [
      "2021-05-22 17:58:44,066 INFO sqlalchemy.engine.base.Engine {'typname': 'roletype'}\n"
     ]
    },
    {
     "name": "stdout",
     "output_type": "stream",
     "text": [
      "2021-05-22 17:58:44,067 INFO sqlalchemy.engine.base.Engine CREATE TYPE roletype AS ENUM ('REQUIRES_APPLICATION', 'OPEN_TO_ALL')\n"
     ]
    },
    {
     "name": "stdout",
     "output_type": "stream",
     "text": [
      "2021-05-22 17:58:44,068 INFO sqlalchemy.engine.base.Engine {}\n"
     ]
    },
    {
     "name": "stdout",
     "output_type": "stream",
     "text": [
      "2021-05-22 17:58:44,069 INFO sqlalchemy.engine.base.Engine COMMIT\n"
     ]
    },
    {
     "name": "stdout",
     "output_type": "stream",
     "text": [
      "2021-05-22 17:58:44,072 INFO sqlalchemy.engine.base.Engine \n",
      "            SELECT EXISTS (\n",
      "                SELECT * FROM pg_catalog.pg_type t\n",
      "                WHERE t.typname = %(typname)s\n",
      "                AND pg_type_is_visible(t.oid)\n",
      "                )\n",
      "                \n"
     ]
    },
    {
     "name": "stdout",
     "output_type": "stream",
     "text": [
      "2021-05-22 17:58:44,072 INFO sqlalchemy.engine.base.Engine {'typname': 'notificationchannel'}\n"
     ]
    },
    {
     "name": "stdout",
     "output_type": "stream",
     "text": [
      "2021-05-22 17:58:44,074 INFO sqlalchemy.engine.base.Engine CREATE TYPE notificationchannel AS ENUM ('EMAIL', 'SMS', 'SLACK')\n"
     ]
    },
    {
     "name": "stdout",
     "output_type": "stream",
     "text": [
      "2021-05-22 17:58:44,074 INFO sqlalchemy.engine.base.Engine {}\n"
     ]
    },
    {
     "name": "stdout",
     "output_type": "stream",
     "text": [
      "2021-05-22 17:58:44,075 INFO sqlalchemy.engine.base.Engine COMMIT\n"
     ]
    },
    {
     "name": "stdout",
     "output_type": "stream",
     "text": [
      "2021-05-22 17:58:44,078 INFO sqlalchemy.engine.base.Engine \n",
      "            SELECT EXISTS (\n",
      "                SELECT * FROM pg_catalog.pg_type t\n",
      "                WHERE t.typname = %(typname)s\n",
      "                AND pg_type_is_visible(t.oid)\n",
      "                )\n",
      "                \n"
     ]
    },
    {
     "name": "stdout",
     "output_type": "stream",
     "text": [
      "2021-05-22 17:58:44,079 INFO sqlalchemy.engine.base.Engine {'typname': 'notificationstatus'}\n"
     ]
    },
    {
     "name": "stdout",
     "output_type": "stream",
     "text": [
      "2021-05-22 17:58:44,080 INFO sqlalchemy.engine.base.Engine CREATE TYPE notificationstatus AS ENUM ('SCHEDULED', 'SENT', 'FAILED')\n"
     ]
    },
    {
     "name": "stdout",
     "output_type": "stream",
     "text": [
      "2021-05-22 17:58:44,080 INFO sqlalchemy.engine.base.Engine {}\n"
     ]
    },
    {
     "name": "stdout",
     "output_type": "stream",
     "text": [
      "2021-05-22 17:58:44,081 INFO sqlalchemy.engine.base.Engine COMMIT\n"
     ]
    },
    {
     "name": "stdout",
     "output_type": "stream",
     "text": [
      "2021-05-22 17:58:44,085 INFO sqlalchemy.engine.base.Engine \n",
      "            SELECT EXISTS (\n",
      "                SELECT * FROM pg_catalog.pg_type t\n",
      "                WHERE t.typname = %(typname)s\n",
      "                AND pg_type_is_visible(t.oid)\n",
      "                )\n",
      "                \n"
     ]
    },
    {
     "name": "stdout",
     "output_type": "stream",
     "text": [
      "2021-05-22 17:58:44,085 INFO sqlalchemy.engine.base.Engine {'typname': 'identifiertype'}\n"
     ]
    },
    {
     "name": "stdout",
     "output_type": "stream",
     "text": [
      "2021-05-22 17:58:44,087 INFO sqlalchemy.engine.base.Engine CREATE TYPE identifiertype AS ENUM ('EMAIL', 'PHONE', 'SLACK_ID', 'GOOGLE_ID')\n"
     ]
    },
    {
     "name": "stdout",
     "output_type": "stream",
     "text": [
      "2021-05-22 17:58:44,087 INFO sqlalchemy.engine.base.Engine {}\n"
     ]
    },
    {
     "name": "stdout",
     "output_type": "stream",
     "text": [
      "2021-05-22 17:58:44,088 INFO sqlalchemy.engine.base.Engine COMMIT\n"
     ]
    },
    {
     "name": "stdout",
     "output_type": "stream",
     "text": [
      "2021-05-22 17:58:44,093 INFO sqlalchemy.engine.base.Engine \n",
      "CREATE TABLE events (\n",
      "\tid VARCHAR(255) NOT NULL, \n",
      "\tairtable_last_modified TIMESTAMP WITHOUT TIME ZONE NOT NULL, \n",
      "\tupdated_at TIMESTAMP WITHOUT TIME ZONE NOT NULL, \n",
      "\tis_deleted BOOLEAN NOT NULL, \n",
      "\tuuid UUID NOT NULL, \n",
      "\tevent_name VARCHAR(255) NOT NULL, \n",
      "\tevent_graphics JSON[], \n",
      "\tsignup_link TEXT NOT NULL, \n",
      "\tstart TIMESTAMP WITHOUT TIME ZONE NOT NULL, \n",
      "\t\"end\" TIMESTAMP WITHOUT TIME ZONE, \n",
      "\tdescription TEXT, \n",
      "\tPRIMARY KEY (uuid), \n",
      "\tUNIQUE (uuid)\n",
      ")\n",
      "\n",
      "\n"
     ]
    },
    {
     "name": "stdout",
     "output_type": "stream",
     "text": [
      "2021-05-22 17:58:44,093 INFO sqlalchemy.engine.base.Engine {}\n"
     ]
    },
    {
     "name": "stdout",
     "output_type": "stream",
     "text": [
      "2021-05-22 17:58:44,105 INFO sqlalchemy.engine.base.Engine COMMIT\n"
     ]
    },
    {
     "name": "stdout",
     "output_type": "stream",
     "text": [
      "2021-05-22 17:58:44,110 INFO sqlalchemy.engine.base.Engine \n",
      "CREATE TABLE volunteer_openings (\n",
      "\tid VARCHAR(255) NOT NULL, \n",
      "\tairtable_last_modified TIMESTAMP WITHOUT TIME ZONE NOT NULL, \n",
      "\tupdated_at TIMESTAMP WITHOUT TIME ZONE NOT NULL, \n",
      "\tis_deleted BOOLEAN NOT NULL, \n",
      "\tuuid UUID NOT NULL, \n",
      "\trole_name VARCHAR(255) NOT NULL, \n",
      "\thero_image_urls JSON[], \n",
      "\tapplication_signup_form TEXT, \n",
      "\tmore_info_link TEXT, \n",
      "\tpriority priority NOT NULL, \n",
      "\tteam VARCHAR(255)[], \n",
      "\tteam_lead_ids VARCHAR(255)[], \n",
      "\tnum_openings INTEGER, \n",
      "\tminimum_time_commitment_per_week_hours INTEGER, \n",
      "\tmaximum_time_commitment_per_week_hours INTEGER, \n",
      "\tjob_overview TEXT, \n",
      "\twhat_youll_learn TEXT, \n",
      "\tresponsibilities_and_duties TEXT, \n",
      "\tqualifications TEXT, \n",
      "\trole_type roletype NOT NULL, \n",
      "\tPRIMARY KEY (uuid), \n",
      "\tUNIQUE (uuid)\n",
      ")\n",
      "\n",
      "\n"
     ]
    },
    {
     "name": "stdout",
     "output_type": "stream",
     "text": [
      "2021-05-22 17:58:44,111 INFO sqlalchemy.engine.base.Engine {}\n"
     ]
    },
    {
     "name": "stdout",
     "output_type": "stream",
     "text": [
      "2021-05-22 17:58:44,122 INFO sqlalchemy.engine.base.Engine COMMIT\n"
     ]
    },
    {
     "name": "stdout",
     "output_type": "stream",
     "text": [
      "2021-05-22 17:58:44,126 INFO sqlalchemy.engine.base.Engine \n",
      "CREATE TABLE initiatives (\n",
      "\tid VARCHAR(255) NOT NULL, \n",
      "\tairtable_last_modified TIMESTAMP WITHOUT TIME ZONE NOT NULL, \n",
      "\tupdated_at TIMESTAMP WITHOUT TIME ZONE NOT NULL, \n",
      "\tis_deleted BOOLEAN NOT NULL, \n",
      "\tuuid UUID NOT NULL, \n",
      "\tinitiative_name VARCHAR(255) NOT NULL, \n",
      "\t\"order\" INTEGER NOT NULL, \n",
      "\tdetails_link VARCHAR(255), \n",
      "\thero_image_urls JSON[], \n",
      "\tdescription TEXT NOT NULL, \n",
      "\troles VARCHAR[] NOT NULL, \n",
      "\tevents VARCHAR[] NOT NULL, \n",
      "\tPRIMARY KEY (uuid), \n",
      "\tUNIQUE (uuid)\n",
      ")\n",
      "\n",
      "\n"
     ]
    },
    {
     "name": "stdout",
     "output_type": "stream",
     "text": [
      "2021-05-22 17:58:44,126 INFO sqlalchemy.engine.base.Engine {}\n"
     ]
    },
    {
     "name": "stdout",
     "output_type": "stream",
     "text": [
      "2021-05-22 17:58:44,137 INFO sqlalchemy.engine.base.Engine COMMIT\n"
     ]
    },
    {
     "name": "stdout",
     "output_type": "stream",
     "text": [
      "2021-05-22 17:58:44,141 INFO sqlalchemy.engine.base.Engine \n",
      "CREATE TABLE notifications (\n",
      "\tuuid UUID NOT NULL, \n",
      "\tchannel notificationchannel NOT NULL, \n",
      "\trecipient TEXT NOT NULL, \n",
      "\ttitle TEXT, \n",
      "\tmessage TEXT NOT NULL, \n",
      "\tscheduled_send_date TIMESTAMP WITHOUT TIME ZONE NOT NULL, \n",
      "\tstatus notificationstatus NOT NULL, \n",
      "\tsend_date TIMESTAMP WITHOUT TIME ZONE, \n",
      "\tPRIMARY KEY (uuid), \n",
      "\tUNIQUE (uuid)\n",
      ")\n",
      "\n",
      "\n"
     ]
    },
    {
     "name": "stdout",
     "output_type": "stream",
     "text": [
      "2021-05-22 17:58:44,141 INFO sqlalchemy.engine.base.Engine {}\n"
     ]
    },
    {
     "name": "stdout",
     "output_type": "stream",
     "text": [
      "2021-05-22 17:58:44,153 INFO sqlalchemy.engine.base.Engine COMMIT\n"
     ]
    },
    {
     "name": "stdout",
     "output_type": "stream",
     "text": [
      "2021-05-22 17:58:44,156 INFO sqlalchemy.engine.base.Engine \n",
      "CREATE TABLE personal_identifiers (\n",
      "\tuuid UUID NOT NULL, \n",
      "\ttype identifiertype NOT NULL, \n",
      "\tvalue TEXT NOT NULL, \n",
      "\taccount_uuid UUID, \n",
      "\tverified BOOLEAN NOT NULL, \n",
      "\tslack_workspace_id TEXT, \n",
      "\tPRIMARY KEY (uuid), \n",
      "\tUNIQUE (type, value), \n",
      "\tUNIQUE (uuid)\n",
      ")\n",
      "\n",
      "\n"
     ]
    },
    {
     "name": "stdout",
     "output_type": "stream",
     "text": [
      "2021-05-22 17:58:44,157 INFO sqlalchemy.engine.base.Engine {}\n"
     ]
    },
    {
     "name": "stdout",
     "output_type": "stream",
     "text": [
      "2021-05-22 17:58:44,174 INFO sqlalchemy.engine.base.Engine COMMIT\n"
     ]
    },
    {
     "name": "stdout",
     "output_type": "stream",
     "text": [
      "2021-05-22 17:58:44,177 INFO sqlalchemy.engine.base.Engine CREATE INDEX ix_account_uuid ON personal_identifiers USING hash (account_uuid)\n"
     ]
    },
    {
     "name": "stdout",
     "output_type": "stream",
     "text": [
      "2021-05-22 17:58:44,178 INFO sqlalchemy.engine.base.Engine {}\n"
     ]
    },
    {
     "name": "stdout",
     "output_type": "stream",
     "text": [
      "2021-05-22 17:58:44,179 INFO sqlalchemy.engine.base.Engine COMMIT\n"
     ]
    },
    {
     "name": "stdout",
     "output_type": "stream",
     "text": [
      "2021-05-22 17:58:44,183 INFO sqlalchemy.engine.base.Engine \n",
      "CREATE TABLE accounts (\n",
      "\tuuid UUID NOT NULL, \n",
      "\tusername VARCHAR(255), \n",
      "\tfirst_name VARCHAR(255), \n",
      "\tlast_name VARCHAR(255), \n",
      "\tpassword TEXT, \n",
      "\toauth VARCHAR(32), \n",
      "\tprofile_pic TEXT, \n",
      "\tcity VARCHAR(32), \n",
      "\tstate VARCHAR(32), \n",
      "\troles VARCHAR[] NOT NULL, \n",
      "\tzip_code VARCHAR(32), \n",
      "\tis_verified BOOLEAN NOT NULL, \n",
      "\t_primary_email_identifier_uuid UUID, \n",
      "\t_primary_phone_number_identifier_uuid UUID, \n",
      "\tPRIMARY KEY (uuid), \n",
      "\tUNIQUE (uuid)\n",
      ")\n",
      "\n",
      "\n"
     ]
    },
    {
     "name": "stdout",
     "output_type": "stream",
     "text": [
      "2021-05-22 17:58:44,183 INFO sqlalchemy.engine.base.Engine {}\n"
     ]
    },
    {
     "name": "stdout",
     "output_type": "stream",
     "text": [
      "2021-05-22 17:58:44,194 INFO sqlalchemy.engine.base.Engine COMMIT\n"
     ]
    },
    {
     "name": "stdout",
     "output_type": "stream",
     "text": [
      "2021-05-22 17:58:44,198 INFO sqlalchemy.engine.base.Engine \n",
      "CREATE TABLE users (\n",
      "\tid SERIAL NOT NULL, \n",
      "\tname VARCHAR, \n",
      "\tPRIMARY KEY (id)\n",
      ")\n",
      "\n",
      "\n"
     ]
    },
    {
     "name": "stdout",
     "output_type": "stream",
     "text": [
      "2021-05-22 17:58:44,198 INFO sqlalchemy.engine.base.Engine {}\n"
     ]
    },
    {
     "name": "stdout",
     "output_type": "stream",
     "text": [
      "2021-05-22 17:58:44,220 INFO sqlalchemy.engine.base.Engine COMMIT\n"
     ]
    },
    {
     "name": "stdout",
     "output_type": "stream",
     "text": [
      "2021-05-22 17:58:44,227 INFO sqlalchemy.engine.base.Engine \n",
      "CREATE TABLE verification_tokens (\n",
      "\tuuid UUID NOT NULL, \n",
      "\tcreated_at TIMESTAMP WITHOUT TIME ZONE NOT NULL, \n",
      "\talready_used BOOLEAN NOT NULL, \n",
      "\tcounter BIGINT NOT NULL, \n",
      "\tpersonal_identifier_uuid UUID, \n",
      "\tPRIMARY KEY (uuid), \n",
      "\tUNIQUE (uuid), \n",
      "\tFOREIGN KEY(personal_identifier_uuid) REFERENCES personal_identifiers (uuid)\n",
      ")\n",
      "\n",
      "\n"
     ]
    },
    {
     "name": "stdout",
     "output_type": "stream",
     "text": [
      "2021-05-22 17:58:44,227 INFO sqlalchemy.engine.base.Engine {}\n"
     ]
    },
    {
     "name": "stdout",
     "output_type": "stream",
     "text": [
      "2021-05-22 17:58:44,238 INFO sqlalchemy.engine.base.Engine COMMIT\n"
     ]
    },
    {
     "name": "stdout",
     "output_type": "stream",
     "text": [
      "2021-05-22 17:58:44,243 INFO sqlalchemy.engine.base.Engine \n",
      "CREATE TABLE account_settings (\n",
      "\tuuid UUID NOT NULL, \n",
      "\taccount_uuid UUID, \n",
      "\tshow_name BOOLEAN NOT NULL, \n",
      "\tshow_email BOOLEAN NOT NULL, \n",
      "\tshow_location BOOLEAN NOT NULL, \n",
      "\torganizers_can_see BOOLEAN NOT NULL, \n",
      "\tvolunteers_can_see BOOLEAN NOT NULL, \n",
      "\tinitiative_map JSON NOT NULL, \n",
      "\tpassword_reset_hash TEXT, \n",
      "\tpassword_reset_time TIMESTAMP WITHOUT TIME ZONE, \n",
      "\tPRIMARY KEY (uuid), \n",
      "\tUNIQUE (uuid), \n",
      "\tFOREIGN KEY(account_uuid) REFERENCES accounts (uuid)\n",
      ")\n",
      "\n",
      "\n"
     ]
    },
    {
     "name": "stdout",
     "output_type": "stream",
     "text": [
      "2021-05-22 17:58:44,244 INFO sqlalchemy.engine.base.Engine {}\n"
     ]
    },
    {
     "name": "stdout",
     "output_type": "stream",
     "text": [
      "2021-05-22 17:58:44,256 INFO sqlalchemy.engine.base.Engine COMMIT\n"
     ]
    },
    {
     "name": "stdout",
     "output_type": "stream",
     "text": [
      "2021-05-22 17:58:44,260 INFO sqlalchemy.engine.base.Engine \n",
      "CREATE TABLE ids (\n",
      "\tid SERIAL NOT NULL, \n",
      "\tvalue VARCHAR, \n",
      "\tverified BOOLEAN NOT NULL, \n",
      "\tuser_uid INTEGER, \n",
      "\tPRIMARY KEY (id), \n",
      "\tFOREIGN KEY(user_uid) REFERENCES users (id)\n",
      ")\n",
      "\n",
      "\n"
     ]
    },
    {
     "name": "stdout",
     "output_type": "stream",
     "text": [
      "2021-05-22 17:58:44,260 INFO sqlalchemy.engine.base.Engine {}\n"
     ]
    },
    {
     "name": "stdout",
     "output_type": "stream",
     "text": [
      "2021-05-22 17:58:44,272 INFO sqlalchemy.engine.base.Engine COMMIT\n"
     ]
    },
    {
     "name": "stdout",
     "output_type": "stream",
     "text": [
      "2021-05-22 17:58:44,276 INFO sqlalchemy.engine.base.Engine ALTER TABLE accounts ADD FOREIGN KEY(_primary_phone_number_identifier_uuid) REFERENCES personal_identifiers (uuid)\n"
     ]
    },
    {
     "name": "stdout",
     "output_type": "stream",
     "text": [
      "2021-05-22 17:58:44,277 INFO sqlalchemy.engine.base.Engine {}\n"
     ]
    },
    {
     "name": "stdout",
     "output_type": "stream",
     "text": [
      "2021-05-22 17:58:44,278 INFO sqlalchemy.engine.base.Engine COMMIT\n"
     ]
    },
    {
     "name": "stdout",
     "output_type": "stream",
     "text": [
      "2021-05-22 17:58:44,281 INFO sqlalchemy.engine.base.Engine ALTER TABLE accounts ADD FOREIGN KEY(_primary_email_identifier_uuid) REFERENCES personal_identifiers (uuid)\n"
     ]
    },
    {
     "name": "stdout",
     "output_type": "stream",
     "text": [
      "2021-05-22 17:58:44,282 INFO sqlalchemy.engine.base.Engine {}\n"
     ]
    },
    {
     "name": "stdout",
     "output_type": "stream",
     "text": [
      "2021-05-22 17:58:44,283 INFO sqlalchemy.engine.base.Engine COMMIT\n"
     ]
    },
    {
     "name": "stdout",
     "output_type": "stream",
     "text": [
      "2021-05-22 17:58:44,286 INFO sqlalchemy.engine.base.Engine ALTER TABLE personal_identifiers ADD FOREIGN KEY(account_uuid) REFERENCES accounts (uuid)\n"
     ]
    },
    {
     "name": "stdout",
     "output_type": "stream",
     "text": [
      "2021-05-22 17:58:44,287 INFO sqlalchemy.engine.base.Engine {}\n"
     ]
    },
    {
     "name": "stdout",
     "output_type": "stream",
     "text": [
      "2021-05-22 17:58:44,288 INFO sqlalchemy.engine.base.Engine COMMIT\n"
     ]
    }
   ],
   "source": [
    "Base.metadata.create_all(bind=engine)\n",
    "\n"
   ]
  },
  {
   "cell_type": "code",
   "execution_count": 11,
   "id": "5547a17b",
   "metadata": {
    "collapsed": false
   },
   "outputs": [],
   "source": [
    "u = User(name=\"tuck\")"
   ]
  },
  {
   "cell_type": "code",
   "execution_count": 12,
   "id": "9a75a816",
   "metadata": {
    "collapsed": false
   },
   "outputs": [],
   "source": [
    "i = Identifier(value=\"tucker@gmailc.om\")"
   ]
  },
  {
   "cell_type": "code",
   "execution_count": 13,
   "id": "8351be7d",
   "metadata": {
    "collapsed": false
   },
   "outputs": [],
   "source": [
    "i.user"
   ]
  },
  {
   "cell_type": "code",
   "execution_count": 14,
   "id": "55f2d757",
   "metadata": {
    "collapsed": false
   },
   "outputs": [
    {
     "name": "stdout",
     "output_type": "stream",
     "text": [
      "2021-05-22 17:58:46,751 INFO sqlalchemy.engine.base.Engine BEGIN (implicit)\n"
     ]
    },
    {
     "name": "stdout",
     "output_type": "stream",
     "text": [
      "2021-05-22 17:58:46,753 INFO sqlalchemy.engine.base.Engine INSERT INTO users (name) VALUES (%(name)s) RETURNING users.id\n"
     ]
    },
    {
     "name": "stdout",
     "output_type": "stream",
     "text": [
      "2021-05-22 17:58:46,754 INFO sqlalchemy.engine.base.Engine {'name': 'tuck'}\n"
     ]
    },
    {
     "name": "stdout",
     "output_type": "stream",
     "text": [
      "2021-05-22 17:58:46,757 INFO sqlalchemy.engine.base.Engine COMMIT\n"
     ]
    }
   ],
   "source": [
    "session.add(u)\n",
    "session.commit()"
   ]
  },
  {
   "cell_type": "code",
   "execution_count": 15,
   "id": "a94de7f2",
   "metadata": {
    "collapsed": false
   },
   "outputs": [
    {
     "name": "stdout",
     "output_type": "stream",
     "text": [
      "2021-05-22 17:58:48,891 INFO sqlalchemy.engine.base.Engine BEGIN (implicit)\n"
     ]
    },
    {
     "name": "stdout",
     "output_type": "stream",
     "text": [
      "2021-05-22 17:58:48,892 INFO sqlalchemy.engine.base.Engine INSERT INTO ids (value, verified, user_uid) VALUES (%(value)s, %(verified)s, %(user_uid)s) RETURNING ids.id\n"
     ]
    },
    {
     "name": "stdout",
     "output_type": "stream",
     "text": [
      "2021-05-22 17:58:48,892 INFO sqlalchemy.engine.base.Engine {'value': 'tucker@gmailc.om', 'verified': False, 'user_uid': None}\n"
     ]
    },
    {
     "name": "stdout",
     "output_type": "stream",
     "text": [
      "2021-05-22 17:58:48,894 INFO sqlalchemy.engine.base.Engine COMMIT\n"
     ]
    }
   ],
   "source": [
    "session.add(i)\n",
    "session.commit()"
   ]
  },
  {
   "cell_type": "code",
   "execution_count": 19,
   "id": "07337500",
   "metadata": {
    "collapsed": false
   },
   "outputs": [
    {
     "data": {
      "text/plain": [
       "False"
      ]
     },
     "execution_count": 19,
     "metadata": {},
     "output_type": "execute_result"
    }
   ],
   "source": [
    "i.verified"
   ]
  },
  {
   "cell_type": "code",
   "execution_count": 20,
   "id": "1778aa86",
   "metadata": {
    "collapsed": false
   },
   "outputs": [],
   "source": [
    "i.verify()"
   ]
  },
  {
   "cell_type": "code",
   "execution_count": 21,
   "id": "d603bf38",
   "metadata": {
    "collapsed": false
   },
   "outputs": [
    {
     "data": {
      "text/plain": [
       "True"
      ]
     },
     "execution_count": 21,
     "metadata": {},
     "output_type": "execute_result"
    }
   ],
   "source": [
    "i.verified"
   ]
  },
  {
   "cell_type": "code",
   "execution_count": 23,
   "id": "f687e542",
   "metadata": {
    "collapsed": false
   },
   "outputs": [
    {
     "name": "stdout",
     "output_type": "stream",
     "text": [
      "2021-05-22 17:57:32,219 INFO sqlalchemy.engine.base.Engine COMMIT\n"
     ]
    }
   ],
   "source": [
    "session.commit()"
   ]
  },
  {
   "cell_type": "code",
   "execution_count": 25,
   "id": "9741d29d",
   "metadata": {
    "collapsed": false
   },
   "outputs": [
    {
     "name": "stdout",
     "output_type": "stream",
     "text": [
      "2021-05-22 17:57:38,672 INFO sqlalchemy.engine.base.Engine SELECT ids.id AS ids_id, ids.value AS ids_value, ids.verified AS ids_verified, ids.user_uid AS ids_user_uid \n",
      "FROM ids \n",
      " LIMIT %(param_1)s\n"
     ]
    },
    {
     "name": "stdout",
     "output_type": "stream",
     "text": [
      "2021-05-22 17:57:38,675 INFO sqlalchemy.engine.base.Engine {'param_1': 1}\n"
     ]
    },
    {
     "data": {
      "text/plain": [
       "True"
      ]
     },
     "execution_count": 25,
     "metadata": {},
     "output_type": "execute_result"
    }
   ],
   "source": [
    "session.query(Identifier).first().verified"
   ]
  },
  {
   "cell_type": "code",
   "execution_count": 16,
   "id": "f666df68",
   "metadata": {
    "collapsed": false
   },
   "outputs": [
    {
     "name": "stdout",
     "output_type": "stream",
     "text": [
      "2021-05-22 17:58:55,009 INFO sqlalchemy.engine.base.Engine BEGIN (implicit)\n"
     ]
    },
    {
     "name": "stdout",
     "output_type": "stream",
     "text": [
      "2021-05-22 17:58:55,010 INFO sqlalchemy.engine.base.Engine SELECT users.id AS users_id, users.name AS users_name \n",
      "FROM users \n",
      "WHERE users.id = %(param_1)s\n"
     ]
    },
    {
     "name": "stdout",
     "output_type": "stream",
     "text": [
      "2021-05-22 17:58:55,010 INFO sqlalchemy.engine.base.Engine {'param_1': 1}\n"
     ]
    }
   ],
   "source": [
    "i.user_uid = u.id"
   ]
  },
  {
   "cell_type": "code",
   "execution_count": 17,
   "id": "ec2225d5",
   "metadata": {
    "collapsed": false
   },
   "outputs": [],
   "source": [
    "i2 = Identifier(value=\"tucker2@gmail.com\")"
   ]
  },
  {
   "cell_type": "code",
   "execution_count": 18,
   "id": "0609483c",
   "metadata": {
    "collapsed": false
   },
   "outputs": [
    {
     "data": {
      "text/plain": [
       "<__main__.User at 0x7f4aa14edb20>"
      ]
     },
     "execution_count": 18,
     "metadata": {},
     "output_type": "execute_result"
    }
   ],
   "source": [
    "i.user"
   ]
  },
  {
   "cell_type": "code",
   "execution_count": 19,
   "id": "00e0095d",
   "metadata": {
    "collapsed": false
   },
   "outputs": [],
   "source": [
    "i2.user_uid = u.id"
   ]
  },
  {
   "cell_type": "code",
   "execution_count": 20,
   "id": "7c0f8831",
   "metadata": {
    "collapsed": false
   },
   "outputs": [],
   "source": [
    "session.add(i)"
   ]
  },
  {
   "cell_type": "code",
   "execution_count": 21,
   "id": "bf362371",
   "metadata": {
    "collapsed": false
   },
   "outputs": [],
   "source": [
    "session.add(i2)"
   ]
  },
  {
   "cell_type": "code",
   "execution_count": 22,
   "id": "9c365f3b",
   "metadata": {
    "collapsed": false
   },
   "outputs": [
    {
     "name": "stdout",
     "output_type": "stream",
     "text": [
      "2021-05-22 17:59:00,377 INFO sqlalchemy.engine.base.Engine SELECT ids.id AS ids_id, ids.value AS ids_value, ids.verified AS ids_verified \n",
      "FROM ids \n",
      "WHERE ids.id = %(param_1)s\n"
     ]
    },
    {
     "name": "stdout",
     "output_type": "stream",
     "text": [
      "2021-05-22 17:59:00,380 INFO sqlalchemy.engine.base.Engine {'param_1': 1}\n"
     ]
    },
    {
     "name": "stdout",
     "output_type": "stream",
     "text": [
      "2021-05-22 17:59:00,387 INFO sqlalchemy.engine.base.Engine UPDATE ids SET user_uid=%(user_uid)s WHERE ids.id = %(ids_id)s\n"
     ]
    },
    {
     "name": "stdout",
     "output_type": "stream",
     "text": [
      "2021-05-22 17:59:00,389 INFO sqlalchemy.engine.base.Engine {'user_uid': 1, 'ids_id': 1}\n"
     ]
    },
    {
     "name": "stdout",
     "output_type": "stream",
     "text": [
      "2021-05-22 17:59:00,392 INFO sqlalchemy.engine.base.Engine INSERT INTO ids (value, verified, user_uid) VALUES (%(value)s, %(verified)s, %(user_uid)s) RETURNING ids.id\n"
     ]
    },
    {
     "name": "stdout",
     "output_type": "stream",
     "text": [
      "2021-05-22 17:59:00,393 INFO sqlalchemy.engine.base.Engine {'value': 'tucker2@gmail.com', 'verified': False, 'user_uid': 1}\n"
     ]
    },
    {
     "name": "stdout",
     "output_type": "stream",
     "text": [
      "2021-05-22 17:59:00,395 INFO sqlalchemy.engine.base.Engine COMMIT\n"
     ]
    }
   ],
   "source": [
    "session.commit()"
   ]
  },
  {
   "cell_type": "code",
   "execution_count": 23,
   "id": "a438f4b6",
   "metadata": {
    "collapsed": false
   },
   "outputs": [
    {
     "name": "stdout",
     "output_type": "stream",
     "text": [
      "2021-05-22 17:59:04,782 INFO sqlalchemy.engine.base.Engine BEGIN (implicit)\n"
     ]
    },
    {
     "name": "stdout",
     "output_type": "stream",
     "text": [
      "2021-05-22 17:59:04,784 INFO sqlalchemy.engine.base.Engine SELECT users.id AS users_id, users.name AS users_name \n",
      "FROM users \n",
      "WHERE users.id = %(param_1)s\n"
     ]
    },
    {
     "name": "stdout",
     "output_type": "stream",
     "text": [
      "2021-05-22 17:59:04,784 INFO sqlalchemy.engine.base.Engine {'param_1': 1}\n"
     ]
    },
    {
     "name": "stdout",
     "output_type": "stream",
     "text": [
      "2021-05-22 17:59:04,786 INFO sqlalchemy.engine.base.Engine SELECT ids.id AS ids_id, ids.value AS ids_value, ids.verified AS ids_verified, ids.user_uid AS ids_user_uid \n",
      "FROM ids \n",
      "WHERE %(param_1)s = ids.user_uid\n"
     ]
    },
    {
     "name": "stdout",
     "output_type": "stream",
     "text": [
      "2021-05-22 17:59:04,786 INFO sqlalchemy.engine.base.Engine {'param_1': 1}\n"
     ]
    },
    {
     "data": {
      "text/plain": [
       "[<__main__.Identifier at 0x7f4aa1d330a0>,\n",
       " <__main__.Identifier at 0x7f4a883d1550>]"
      ]
     },
     "execution_count": 23,
     "metadata": {},
     "output_type": "execute_result"
    }
   ],
   "source": [
    "u.identifiers[0].verif"
   ]
  },
  {
   "cell_type": "code",
   "execution_count": 22,
   "id": "43eb3953",
   "metadata": {
    "collapsed": false
   },
   "outputs": [
    {
     "name": "stdout",
     "output_type": "stream",
     "text": [
      "2021-05-20 22:05:41,953 INFO sqlalchemy.engine.base.Engine BEGIN (implicit)\n"
     ]
    },
    {
     "name": "stdout",
     "output_type": "stream",
     "text": [
      "2021-05-20 22:05:41,957 INFO sqlalchemy.engine.base.Engine SELECT ids.id AS ids_id, ids.value AS ids_value, ids.user_uid AS ids_user_uid \n",
      "FROM ids \n",
      "WHERE ids.id = %(param_1)s\n"
     ]
    },
    {
     "name": "stdout",
     "output_type": "stream",
     "text": [
      "2021-05-20 22:05:41,960 INFO sqlalchemy.engine.base.Engine {'param_1': 1}\n"
     ]
    },
    {
     "name": "stdout",
     "output_type": "stream",
     "text": [
      "2021-05-20 22:05:41,965 INFO sqlalchemy.engine.base.Engine SELECT users.id AS users_id, users.name AS users_name \n",
      "FROM users \n",
      "WHERE users.id = %(param_1)s\n"
     ]
    },
    {
     "name": "stdout",
     "output_type": "stream",
     "text": [
      "2021-05-20 22:05:41,967 INFO sqlalchemy.engine.base.Engine {'param_1': 1}\n"
     ]
    },
    {
     "data": {
      "text/plain": [
       "<__main__.User at 0x7fc3740e7730>"
      ]
     },
     "execution_count": 22,
     "metadata": {},
     "output_type": "execute_result"
    }
   ],
   "source": [
    "i.user"
   ]
  },
  {
   "cell_type": "code",
   "execution_count": 23,
   "id": "090e6241",
   "metadata": {
    "collapsed": false
   },
   "outputs": [
    {
     "name": "stdout",
     "output_type": "stream",
     "text": [
      "2021-05-20 22:05:42,201 INFO sqlalchemy.engine.base.Engine SELECT ids.id AS ids_id, ids.value AS ids_value, ids.user_uid AS ids_user_uid \n",
      "FROM ids \n",
      "WHERE ids.id = %(param_1)s\n"
     ]
    },
    {
     "name": "stdout",
     "output_type": "stream",
     "text": [
      "2021-05-20 22:05:42,202 INFO sqlalchemy.engine.base.Engine {'param_1': 2}\n"
     ]
    },
    {
     "data": {
      "text/plain": [
       "<__main__.User at 0x7fc3740e7730>"
      ]
     },
     "execution_count": 23,
     "metadata": {},
     "output_type": "execute_result"
    }
   ],
   "source": [
    "i2.user"
   ]
  },
  {
   "cell_type": "code",
   "execution_count": 24,
   "id": "5a915f84",
   "metadata": {
    "collapsed": false
   },
   "outputs": [
    {
     "name": "stdout",
     "output_type": "stream",
     "text": [
      "2021-05-20 22:05:42,570 INFO sqlalchemy.engine.base.Engine SELECT ids.id AS ids_id, ids.value AS ids_value, ids.user_uid AS ids_user_uid \n",
      "FROM ids \n",
      "WHERE %(param_1)s = ids.user_uid\n"
     ]
    },
    {
     "name": "stdout",
     "output_type": "stream",
     "text": [
      "2021-05-20 22:05:42,571 INFO sqlalchemy.engine.base.Engine {'param_1': 1}\n"
     ]
    },
    {
     "data": {
      "text/plain": [
       "[<__main__.Identifier at 0x7fc374113d60>,\n",
       " <__main__.Identifier at 0x7fc3846eeac0>]"
      ]
     },
     "execution_count": 24,
     "metadata": {},
     "output_type": "execute_result"
    }
   ],
   "source": [
    "u.identifiers"
   ]
  },
  {
   "cell_type": "code",
   "execution_count": 25,
   "id": "6c515708",
   "metadata": {
    "collapsed": false
   },
   "outputs": [
    {
     "name": "stdout",
     "output_type": "stream",
     "text": [
      "2021-05-20 22:05:42,984 INFO sqlalchemy.engine.base.Engine SELECT ids.id AS ids_id, ids.value AS ids_value, ids.user_uid AS ids_user_uid \n",
      "FROM ids \n",
      "WHERE %(param_1)s = ids.user_uid\n"
     ]
    },
    {
     "name": "stdout",
     "output_type": "stream",
     "text": [
      "2021-05-20 22:05:42,985 INFO sqlalchemy.engine.base.Engine {'param_1': 1}\n"
     ]
    },
    {
     "data": {
      "text/plain": [
       "[<__main__.Identifier at 0x7fc374113d60>,\n",
       " <__main__.Identifier at 0x7fc3846eeac0>]"
      ]
     },
     "execution_count": 25,
     "metadata": {},
     "output_type": "execute_result"
    }
   ],
   "source": [
    "u.id2"
   ]
  },
  {
   "cell_type": "code",
   "execution_count": 26,
   "id": "e1a94dd0",
   "metadata": {
    "collapsed": false
   },
   "outputs": [
    {
     "data": {
      "text/plain": [
       "1"
      ]
     },
     "execution_count": 26,
     "metadata": {},
     "output_type": "execute_result"
    }
   ],
   "source": [
    "i.user_uid"
   ]
  },
  {
   "cell_type": "code",
   "execution_count": 27,
   "id": "74b73b1d",
   "metadata": {
    "collapsed": false
   },
   "outputs": [
    {
     "data": {
      "text/plain": [
       "<__main__.User at 0x7fc3740e7730>"
      ]
     },
     "execution_count": 27,
     "metadata": {},
     "output_type": "execute_result"
    }
   ],
   "source": [
    "i.user"
   ]
  },
  {
   "cell_type": "code",
   "execution_count": 28,
   "id": "3870a6eb",
   "metadata": {
    "collapsed": false
   },
   "outputs": [
    {
     "name": "stdout",
     "output_type": "stream",
     "text": [
      "2021-05-20 22:05:44,922 INFO sqlalchemy.engine.base.Engine COMMIT\n"
     ]
    }
   ],
   "source": [
    "session.flush()\n",
    "session.commit()\n",
    "session.flush()"
   ]
  },
  {
   "cell_type": "code",
   "execution_count": 30,
   "id": "d6b54c06",
   "metadata": {
    "collapsed": false
   },
   "outputs": [
    {
     "name": "stdout",
     "output_type": "stream",
     "text": [
      "2021-05-20 20:18:43,759 INFO sqlalchemy.engine.base.Engine DELETE FROM users\n"
     ]
    },
    {
     "name": "stdout",
     "output_type": "stream",
     "text": [
      "2021-05-20 20:18:43,760 INFO sqlalchemy.engine.base.Engine {}\n"
     ]
    },
    {
     "ename": "IntegrityError",
     "evalue": "(psycopg2.errors.ForeignKeyViolation) update or delete on table \"users\" violates foreign key constraint \"ids_user_uid_fkey\" on table \"ids\"\nDETAIL:  Key (id)=(1) is still referenced from table \"ids\".\n\n[SQL: DELETE FROM users]\n(Background on this error at: http://sqlalche.me/e/13/gkpj)",
     "output_type": "error",
     "traceback": [
      "\u001b[0;31m---------------------------------------------------------------------------\u001b[0m",
      "\u001b[0;31mForeignKeyViolation\u001b[0m                       Traceback (most recent call last)",
      "\u001b[0;32m/usr/local/lib/python3.8/site-packages/sqlalchemy/engine/base.py\u001b[0m in \u001b[0;36m_execute_context\u001b[0;34m(self, dialect, constructor, statement, parameters, *args)\u001b[0m\n\u001b[1;32m   1275\u001b[0m                 \u001b[0;32mif\u001b[0m \u001b[0;32mnot\u001b[0m \u001b[0mevt_handled\u001b[0m\u001b[0;34m:\u001b[0m\u001b[0;34m\u001b[0m\u001b[0;34m\u001b[0m\u001b[0m\n\u001b[0;32m-> 1276\u001b[0;31m                     self.dialect.do_execute(\n\u001b[0m\u001b[1;32m   1277\u001b[0m                         \u001b[0mcursor\u001b[0m\u001b[0;34m,\u001b[0m \u001b[0mstatement\u001b[0m\u001b[0;34m,\u001b[0m \u001b[0mparameters\u001b[0m\u001b[0;34m,\u001b[0m \u001b[0mcontext\u001b[0m\u001b[0;34m\u001b[0m\u001b[0;34m\u001b[0m\u001b[0m\n",
      "\u001b[0;32m/usr/local/lib/python3.8/site-packages/sqlalchemy/engine/default.py\u001b[0m in \u001b[0;36mdo_execute\u001b[0;34m(self, cursor, statement, parameters, context)\u001b[0m\n\u001b[1;32m    607\u001b[0m     \u001b[0;32mdef\u001b[0m \u001b[0mdo_execute\u001b[0m\u001b[0;34m(\u001b[0m\u001b[0mself\u001b[0m\u001b[0;34m,\u001b[0m \u001b[0mcursor\u001b[0m\u001b[0;34m,\u001b[0m \u001b[0mstatement\u001b[0m\u001b[0;34m,\u001b[0m \u001b[0mparameters\u001b[0m\u001b[0;34m,\u001b[0m \u001b[0mcontext\u001b[0m\u001b[0;34m=\u001b[0m\u001b[0;32mNone\u001b[0m\u001b[0;34m)\u001b[0m\u001b[0;34m:\u001b[0m\u001b[0;34m\u001b[0m\u001b[0;34m\u001b[0m\u001b[0m\n\u001b[0;32m--> 608\u001b[0;31m         \u001b[0mcursor\u001b[0m\u001b[0;34m.\u001b[0m\u001b[0mexecute\u001b[0m\u001b[0;34m(\u001b[0m\u001b[0mstatement\u001b[0m\u001b[0;34m,\u001b[0m \u001b[0mparameters\u001b[0m\u001b[0;34m)\u001b[0m\u001b[0;34m\u001b[0m\u001b[0;34m\u001b[0m\u001b[0m\n\u001b[0m\u001b[1;32m    609\u001b[0m \u001b[0;34m\u001b[0m\u001b[0m\n",
      "\u001b[0;31mForeignKeyViolation\u001b[0m: update or delete on table \"users\" violates foreign key constraint \"ids_user_uid_fkey\" on table \"ids\"\nDETAIL:  Key (id)=(1) is still referenced from table \"ids\".\n",
      "\nThe above exception was the direct cause of the following exception:\n",
      "\u001b[0;31mIntegrityError\u001b[0m                            Traceback (most recent call last)",
      "\u001b[0;32m<ipython-input-30-dc78907e9b87>\u001b[0m in \u001b[0;36m<module>\u001b[0;34m\u001b[0m\n\u001b[0;32m----> 1\u001b[0;31m \u001b[0msession\u001b[0m\u001b[0;34m.\u001b[0m\u001b[0mquery\u001b[0m\u001b[0;34m(\u001b[0m\u001b[0mUser\u001b[0m\u001b[0;34m)\u001b[0m\u001b[0;34m.\u001b[0m\u001b[0mdelete\u001b[0m\u001b[0;34m(\u001b[0m\u001b[0;34m)\u001b[0m\u001b[0;34m\u001b[0m\u001b[0;34m\u001b[0m\u001b[0m\n\u001b[0m",
      "\u001b[0;32m/usr/local/lib/python3.8/site-packages/sqlalchemy/orm/query.py\u001b[0m in \u001b[0;36mdelete\u001b[0;34m(self, synchronize_session)\u001b[0m\n\u001b[1;32m   3924\u001b[0m \u001b[0;34m\u001b[0m\u001b[0m\n\u001b[1;32m   3925\u001b[0m         \u001b[0mdelete_op\u001b[0m \u001b[0;34m=\u001b[0m \u001b[0mpersistence\u001b[0m\u001b[0;34m.\u001b[0m\u001b[0mBulkDelete\u001b[0m\u001b[0;34m.\u001b[0m\u001b[0mfactory\u001b[0m\u001b[0;34m(\u001b[0m\u001b[0mself\u001b[0m\u001b[0;34m,\u001b[0m \u001b[0msynchronize_session\u001b[0m\u001b[0;34m)\u001b[0m\u001b[0;34m\u001b[0m\u001b[0;34m\u001b[0m\u001b[0m\n\u001b[0;32m-> 3926\u001b[0;31m         \u001b[0mdelete_op\u001b[0m\u001b[0;34m.\u001b[0m\u001b[0mexec_\u001b[0m\u001b[0;34m(\u001b[0m\u001b[0;34m)\u001b[0m\u001b[0;34m\u001b[0m\u001b[0;34m\u001b[0m\u001b[0m\n\u001b[0m\u001b[1;32m   3927\u001b[0m         \u001b[0;32mreturn\u001b[0m \u001b[0mdelete_op\u001b[0m\u001b[0;34m.\u001b[0m\u001b[0mrowcount\u001b[0m\u001b[0;34m\u001b[0m\u001b[0;34m\u001b[0m\u001b[0m\n\u001b[1;32m   3928\u001b[0m \u001b[0;34m\u001b[0m\u001b[0m\n",
      "\u001b[0;32m/usr/local/lib/python3.8/site-packages/sqlalchemy/orm/persistence.py\u001b[0m in \u001b[0;36mexec_\u001b[0;34m(self)\u001b[0m\n\u001b[1;32m   1695\u001b[0m         \u001b[0mself\u001b[0m\u001b[0;34m.\u001b[0m\u001b[0m_do_pre\u001b[0m\u001b[0;34m(\u001b[0m\u001b[0;34m)\u001b[0m\u001b[0;34m\u001b[0m\u001b[0;34m\u001b[0m\u001b[0m\n\u001b[1;32m   1696\u001b[0m         \u001b[0mself\u001b[0m\u001b[0;34m.\u001b[0m\u001b[0m_do_pre_synchronize\u001b[0m\u001b[0;34m(\u001b[0m\u001b[0;34m)\u001b[0m\u001b[0;34m\u001b[0m\u001b[0;34m\u001b[0m\u001b[0m\n\u001b[0;32m-> 1697\u001b[0;31m         \u001b[0mself\u001b[0m\u001b[0;34m.\u001b[0m\u001b[0m_do_exec\u001b[0m\u001b[0;34m(\u001b[0m\u001b[0;34m)\u001b[0m\u001b[0;34m\u001b[0m\u001b[0;34m\u001b[0m\u001b[0m\n\u001b[0m\u001b[1;32m   1698\u001b[0m         \u001b[0mself\u001b[0m\u001b[0;34m.\u001b[0m\u001b[0m_do_post_synchronize\u001b[0m\u001b[0;34m(\u001b[0m\u001b[0;34m)\u001b[0m\u001b[0;34m\u001b[0m\u001b[0;34m\u001b[0m\u001b[0m\n\u001b[1;32m   1699\u001b[0m         \u001b[0mself\u001b[0m\u001b[0;34m.\u001b[0m\u001b[0m_do_post\u001b[0m\u001b[0;34m(\u001b[0m\u001b[0;34m)\u001b[0m\u001b[0;34m\u001b[0m\u001b[0;34m\u001b[0m\u001b[0m\n",
      "\u001b[0;32m/usr/local/lib/python3.8/site-packages/sqlalchemy/orm/persistence.py\u001b[0m in \u001b[0;36m_do_exec\u001b[0;34m(self)\u001b[0m\n\u001b[1;32m   1928\u001b[0m         \u001b[0mdelete_stmt\u001b[0m \u001b[0;34m=\u001b[0m \u001b[0msql\u001b[0m\u001b[0;34m.\u001b[0m\u001b[0mdelete\u001b[0m\u001b[0;34m(\u001b[0m\u001b[0mself\u001b[0m\u001b[0;34m.\u001b[0m\u001b[0mprimary_table\u001b[0m\u001b[0;34m,\u001b[0m \u001b[0mself\u001b[0m\u001b[0;34m.\u001b[0m\u001b[0mcontext\u001b[0m\u001b[0;34m.\u001b[0m\u001b[0mwhereclause\u001b[0m\u001b[0;34m)\u001b[0m\u001b[0;34m\u001b[0m\u001b[0;34m\u001b[0m\u001b[0m\n\u001b[1;32m   1929\u001b[0m \u001b[0;34m\u001b[0m\u001b[0m\n\u001b[0;32m-> 1930\u001b[0;31m         \u001b[0mself\u001b[0m\u001b[0;34m.\u001b[0m\u001b[0m_execute_stmt\u001b[0m\u001b[0;34m(\u001b[0m\u001b[0mdelete_stmt\u001b[0m\u001b[0;34m)\u001b[0m\u001b[0;34m\u001b[0m\u001b[0;34m\u001b[0m\u001b[0m\n\u001b[0m\u001b[1;32m   1931\u001b[0m \u001b[0;34m\u001b[0m\u001b[0m\n\u001b[1;32m   1932\u001b[0m     \u001b[0;32mdef\u001b[0m \u001b[0m_do_post\u001b[0m\u001b[0;34m(\u001b[0m\u001b[0mself\u001b[0m\u001b[0;34m)\u001b[0m\u001b[0;34m:\u001b[0m\u001b[0;34m\u001b[0m\u001b[0;34m\u001b[0m\u001b[0m\n",
      "\u001b[0;32m/usr/local/lib/python3.8/site-packages/sqlalchemy/orm/persistence.py\u001b[0m in \u001b[0;36m_execute_stmt\u001b[0;34m(self, stmt)\u001b[0m\n\u001b[1;32m   1700\u001b[0m \u001b[0;34m\u001b[0m\u001b[0m\n\u001b[1;32m   1701\u001b[0m     \u001b[0;32mdef\u001b[0m \u001b[0m_execute_stmt\u001b[0m\u001b[0;34m(\u001b[0m\u001b[0mself\u001b[0m\u001b[0;34m,\u001b[0m \u001b[0mstmt\u001b[0m\u001b[0;34m)\u001b[0m\u001b[0;34m:\u001b[0m\u001b[0;34m\u001b[0m\u001b[0;34m\u001b[0m\u001b[0m\n\u001b[0;32m-> 1702\u001b[0;31m         \u001b[0mself\u001b[0m\u001b[0;34m.\u001b[0m\u001b[0mresult\u001b[0m \u001b[0;34m=\u001b[0m \u001b[0mself\u001b[0m\u001b[0;34m.\u001b[0m\u001b[0mquery\u001b[0m\u001b[0;34m.\u001b[0m\u001b[0m_execute_crud\u001b[0m\u001b[0;34m(\u001b[0m\u001b[0mstmt\u001b[0m\u001b[0;34m,\u001b[0m \u001b[0mself\u001b[0m\u001b[0;34m.\u001b[0m\u001b[0mmapper\u001b[0m\u001b[0;34m)\u001b[0m\u001b[0;34m\u001b[0m\u001b[0;34m\u001b[0m\u001b[0m\n\u001b[0m\u001b[1;32m   1703\u001b[0m         \u001b[0mself\u001b[0m\u001b[0;34m.\u001b[0m\u001b[0mrowcount\u001b[0m \u001b[0;34m=\u001b[0m \u001b[0mself\u001b[0m\u001b[0;34m.\u001b[0m\u001b[0mresult\u001b[0m\u001b[0;34m.\u001b[0m\u001b[0mrowcount\u001b[0m\u001b[0;34m\u001b[0m\u001b[0;34m\u001b[0m\u001b[0m\n\u001b[1;32m   1704\u001b[0m \u001b[0;34m\u001b[0m\u001b[0m\n",
      "\u001b[0;32m/usr/local/lib/python3.8/site-packages/sqlalchemy/orm/query.py\u001b[0m in \u001b[0;36m_execute_crud\u001b[0;34m(self, stmt, mapper)\u001b[0m\n\u001b[1;32m   3566\u001b[0m         )\n\u001b[1;32m   3567\u001b[0m \u001b[0;34m\u001b[0m\u001b[0m\n\u001b[0;32m-> 3568\u001b[0;31m         \u001b[0;32mreturn\u001b[0m \u001b[0mconn\u001b[0m\u001b[0;34m.\u001b[0m\u001b[0mexecute\u001b[0m\u001b[0;34m(\u001b[0m\u001b[0mstmt\u001b[0m\u001b[0;34m,\u001b[0m \u001b[0mself\u001b[0m\u001b[0;34m.\u001b[0m\u001b[0m_params\u001b[0m\u001b[0;34m)\u001b[0m\u001b[0;34m\u001b[0m\u001b[0;34m\u001b[0m\u001b[0m\n\u001b[0m\u001b[1;32m   3569\u001b[0m \u001b[0;34m\u001b[0m\u001b[0m\n\u001b[1;32m   3570\u001b[0m     \u001b[0;32mdef\u001b[0m \u001b[0m_get_bind_args\u001b[0m\u001b[0;34m(\u001b[0m\u001b[0mself\u001b[0m\u001b[0;34m,\u001b[0m \u001b[0mquerycontext\u001b[0m\u001b[0;34m,\u001b[0m \u001b[0mfn\u001b[0m\u001b[0;34m,\u001b[0m \u001b[0;34m**\u001b[0m\u001b[0mkw\u001b[0m\u001b[0;34m)\u001b[0m\u001b[0;34m:\u001b[0m\u001b[0;34m\u001b[0m\u001b[0;34m\u001b[0m\u001b[0m\n",
      "\u001b[0;32m/usr/local/lib/python3.8/site-packages/sqlalchemy/engine/base.py\u001b[0m in \u001b[0;36mexecute\u001b[0;34m(self, object_, *multiparams, **params)\u001b[0m\n\u001b[1;32m   1009\u001b[0m             )\n\u001b[1;32m   1010\u001b[0m         \u001b[0;32melse\u001b[0m\u001b[0;34m:\u001b[0m\u001b[0;34m\u001b[0m\u001b[0;34m\u001b[0m\u001b[0m\n\u001b[0;32m-> 1011\u001b[0;31m             \u001b[0;32mreturn\u001b[0m \u001b[0mmeth\u001b[0m\u001b[0;34m(\u001b[0m\u001b[0mself\u001b[0m\u001b[0;34m,\u001b[0m \u001b[0mmultiparams\u001b[0m\u001b[0;34m,\u001b[0m \u001b[0mparams\u001b[0m\u001b[0;34m)\u001b[0m\u001b[0;34m\u001b[0m\u001b[0;34m\u001b[0m\u001b[0m\n\u001b[0m\u001b[1;32m   1012\u001b[0m \u001b[0;34m\u001b[0m\u001b[0m\n\u001b[1;32m   1013\u001b[0m     \u001b[0;32mdef\u001b[0m \u001b[0m_execute_function\u001b[0m\u001b[0;34m(\u001b[0m\u001b[0mself\u001b[0m\u001b[0;34m,\u001b[0m \u001b[0mfunc\u001b[0m\u001b[0;34m,\u001b[0m \u001b[0mmultiparams\u001b[0m\u001b[0;34m,\u001b[0m \u001b[0mparams\u001b[0m\u001b[0;34m)\u001b[0m\u001b[0;34m:\u001b[0m\u001b[0;34m\u001b[0m\u001b[0;34m\u001b[0m\u001b[0m\n",
      "\u001b[0;32m/usr/local/lib/python3.8/site-packages/sqlalchemy/sql/elements.py\u001b[0m in \u001b[0;36m_execute_on_connection\u001b[0;34m(self, connection, multiparams, params)\u001b[0m\n\u001b[1;32m    296\u001b[0m     \u001b[0;32mdef\u001b[0m \u001b[0m_execute_on_connection\u001b[0m\u001b[0;34m(\u001b[0m\u001b[0mself\u001b[0m\u001b[0;34m,\u001b[0m \u001b[0mconnection\u001b[0m\u001b[0;34m,\u001b[0m \u001b[0mmultiparams\u001b[0m\u001b[0;34m,\u001b[0m \u001b[0mparams\u001b[0m\u001b[0;34m)\u001b[0m\u001b[0;34m:\u001b[0m\u001b[0;34m\u001b[0m\u001b[0;34m\u001b[0m\u001b[0m\n\u001b[1;32m    297\u001b[0m         \u001b[0;32mif\u001b[0m \u001b[0mself\u001b[0m\u001b[0;34m.\u001b[0m\u001b[0msupports_execution\u001b[0m\u001b[0;34m:\u001b[0m\u001b[0;34m\u001b[0m\u001b[0;34m\u001b[0m\u001b[0m\n\u001b[0;32m--> 298\u001b[0;31m             \u001b[0;32mreturn\u001b[0m \u001b[0mconnection\u001b[0m\u001b[0;34m.\u001b[0m\u001b[0m_execute_clauseelement\u001b[0m\u001b[0;34m(\u001b[0m\u001b[0mself\u001b[0m\u001b[0;34m,\u001b[0m \u001b[0mmultiparams\u001b[0m\u001b[0;34m,\u001b[0m \u001b[0mparams\u001b[0m\u001b[0;34m)\u001b[0m\u001b[0;34m\u001b[0m\u001b[0;34m\u001b[0m\u001b[0m\n\u001b[0m\u001b[1;32m    299\u001b[0m         \u001b[0;32melse\u001b[0m\u001b[0;34m:\u001b[0m\u001b[0;34m\u001b[0m\u001b[0;34m\u001b[0m\u001b[0m\n\u001b[1;32m    300\u001b[0m             \u001b[0;32mraise\u001b[0m \u001b[0mexc\u001b[0m\u001b[0;34m.\u001b[0m\u001b[0mObjectNotExecutableError\u001b[0m\u001b[0;34m(\u001b[0m\u001b[0mself\u001b[0m\u001b[0;34m)\u001b[0m\u001b[0;34m\u001b[0m\u001b[0;34m\u001b[0m\u001b[0m\n",
      "\u001b[0;32m/usr/local/lib/python3.8/site-packages/sqlalchemy/engine/base.py\u001b[0m in \u001b[0;36m_execute_clauseelement\u001b[0;34m(self, elem, multiparams, params)\u001b[0m\n\u001b[1;32m   1122\u001b[0m             )\n\u001b[1;32m   1123\u001b[0m \u001b[0;34m\u001b[0m\u001b[0m\n\u001b[0;32m-> 1124\u001b[0;31m         ret = self._execute_context(\n\u001b[0m\u001b[1;32m   1125\u001b[0m             \u001b[0mdialect\u001b[0m\u001b[0;34m,\u001b[0m\u001b[0;34m\u001b[0m\u001b[0;34m\u001b[0m\u001b[0m\n\u001b[1;32m   1126\u001b[0m             \u001b[0mdialect\u001b[0m\u001b[0;34m.\u001b[0m\u001b[0mexecution_ctx_cls\u001b[0m\u001b[0;34m.\u001b[0m\u001b[0m_init_compiled\u001b[0m\u001b[0;34m,\u001b[0m\u001b[0;34m\u001b[0m\u001b[0;34m\u001b[0m\u001b[0m\n",
      "\u001b[0;32m/usr/local/lib/python3.8/site-packages/sqlalchemy/engine/base.py\u001b[0m in \u001b[0;36m_execute_context\u001b[0;34m(self, dialect, constructor, statement, parameters, *args)\u001b[0m\n\u001b[1;32m   1314\u001b[0m \u001b[0;34m\u001b[0m\u001b[0m\n\u001b[1;32m   1315\u001b[0m         \u001b[0;32mexcept\u001b[0m \u001b[0mBaseException\u001b[0m \u001b[0;32mas\u001b[0m \u001b[0me\u001b[0m\u001b[0;34m:\u001b[0m\u001b[0;34m\u001b[0m\u001b[0;34m\u001b[0m\u001b[0m\n\u001b[0;32m-> 1316\u001b[0;31m             self._handle_dbapi_exception(\n\u001b[0m\u001b[1;32m   1317\u001b[0m                 \u001b[0me\u001b[0m\u001b[0;34m,\u001b[0m \u001b[0mstatement\u001b[0m\u001b[0;34m,\u001b[0m \u001b[0mparameters\u001b[0m\u001b[0;34m,\u001b[0m \u001b[0mcursor\u001b[0m\u001b[0;34m,\u001b[0m \u001b[0mcontext\u001b[0m\u001b[0;34m\u001b[0m\u001b[0;34m\u001b[0m\u001b[0m\n\u001b[1;32m   1318\u001b[0m             )\n",
      "\u001b[0;32m/usr/local/lib/python3.8/site-packages/sqlalchemy/engine/base.py\u001b[0m in \u001b[0;36m_handle_dbapi_exception\u001b[0;34m(self, e, statement, parameters, cursor, context)\u001b[0m\n\u001b[1;32m   1508\u001b[0m                 \u001b[0mutil\u001b[0m\u001b[0;34m.\u001b[0m\u001b[0mraise_\u001b[0m\u001b[0;34m(\u001b[0m\u001b[0mnewraise\u001b[0m\u001b[0;34m,\u001b[0m \u001b[0mwith_traceback\u001b[0m\u001b[0;34m=\u001b[0m\u001b[0mexc_info\u001b[0m\u001b[0;34m[\u001b[0m\u001b[0;36m2\u001b[0m\u001b[0;34m]\u001b[0m\u001b[0;34m,\u001b[0m \u001b[0mfrom_\u001b[0m\u001b[0;34m=\u001b[0m\u001b[0me\u001b[0m\u001b[0;34m)\u001b[0m\u001b[0;34m\u001b[0m\u001b[0;34m\u001b[0m\u001b[0m\n\u001b[1;32m   1509\u001b[0m             \u001b[0;32melif\u001b[0m \u001b[0mshould_wrap\u001b[0m\u001b[0;34m:\u001b[0m\u001b[0;34m\u001b[0m\u001b[0;34m\u001b[0m\u001b[0m\n\u001b[0;32m-> 1510\u001b[0;31m                 util.raise_(\n\u001b[0m\u001b[1;32m   1511\u001b[0m                     \u001b[0msqlalchemy_exception\u001b[0m\u001b[0;34m,\u001b[0m \u001b[0mwith_traceback\u001b[0m\u001b[0;34m=\u001b[0m\u001b[0mexc_info\u001b[0m\u001b[0;34m[\u001b[0m\u001b[0;36m2\u001b[0m\u001b[0;34m]\u001b[0m\u001b[0;34m,\u001b[0m \u001b[0mfrom_\u001b[0m\u001b[0;34m=\u001b[0m\u001b[0me\u001b[0m\u001b[0;34m\u001b[0m\u001b[0;34m\u001b[0m\u001b[0m\n\u001b[1;32m   1512\u001b[0m                 )\n",
      "\u001b[0;32m/usr/local/lib/python3.8/site-packages/sqlalchemy/util/compat.py\u001b[0m in \u001b[0;36mraise_\u001b[0;34m(***failed resolving arguments***)\u001b[0m\n\u001b[1;32m    180\u001b[0m \u001b[0;34m\u001b[0m\u001b[0m\n\u001b[1;32m    181\u001b[0m         \u001b[0;32mtry\u001b[0m\u001b[0;34m:\u001b[0m\u001b[0;34m\u001b[0m\u001b[0;34m\u001b[0m\u001b[0m\n\u001b[0;32m--> 182\u001b[0;31m             \u001b[0;32mraise\u001b[0m \u001b[0mexception\u001b[0m\u001b[0;34m\u001b[0m\u001b[0;34m\u001b[0m\u001b[0m\n\u001b[0m\u001b[1;32m    183\u001b[0m         \u001b[0;32mfinally\u001b[0m\u001b[0;34m:\u001b[0m\u001b[0;34m\u001b[0m\u001b[0;34m\u001b[0m\u001b[0m\n\u001b[1;32m    184\u001b[0m             \u001b[0;31m# credit to\u001b[0m\u001b[0;34m\u001b[0m\u001b[0;34m\u001b[0m\u001b[0;34m\u001b[0m\u001b[0m\n",
      "\u001b[0;32m/usr/local/lib/python3.8/site-packages/sqlalchemy/engine/base.py\u001b[0m in \u001b[0;36m_execute_context\u001b[0;34m(self, dialect, constructor, statement, parameters, *args)\u001b[0m\n\u001b[1;32m   1274\u001b[0m                             \u001b[0;32mbreak\u001b[0m\u001b[0;34m\u001b[0m\u001b[0;34m\u001b[0m\u001b[0m\n\u001b[1;32m   1275\u001b[0m                 \u001b[0;32mif\u001b[0m \u001b[0;32mnot\u001b[0m \u001b[0mevt_handled\u001b[0m\u001b[0;34m:\u001b[0m\u001b[0;34m\u001b[0m\u001b[0;34m\u001b[0m\u001b[0m\n\u001b[0;32m-> 1276\u001b[0;31m                     self.dialect.do_execute(\n\u001b[0m\u001b[1;32m   1277\u001b[0m                         \u001b[0mcursor\u001b[0m\u001b[0;34m,\u001b[0m \u001b[0mstatement\u001b[0m\u001b[0;34m,\u001b[0m \u001b[0mparameters\u001b[0m\u001b[0;34m,\u001b[0m \u001b[0mcontext\u001b[0m\u001b[0;34m\u001b[0m\u001b[0;34m\u001b[0m\u001b[0m\n\u001b[1;32m   1278\u001b[0m                     )\n",
      "\u001b[0;32m/usr/local/lib/python3.8/site-packages/sqlalchemy/engine/default.py\u001b[0m in \u001b[0;36mdo_execute\u001b[0;34m(self, cursor, statement, parameters, context)\u001b[0m\n\u001b[1;32m    606\u001b[0m \u001b[0;34m\u001b[0m\u001b[0m\n\u001b[1;32m    607\u001b[0m     \u001b[0;32mdef\u001b[0m \u001b[0mdo_execute\u001b[0m\u001b[0;34m(\u001b[0m\u001b[0mself\u001b[0m\u001b[0;34m,\u001b[0m \u001b[0mcursor\u001b[0m\u001b[0;34m,\u001b[0m \u001b[0mstatement\u001b[0m\u001b[0;34m,\u001b[0m \u001b[0mparameters\u001b[0m\u001b[0;34m,\u001b[0m \u001b[0mcontext\u001b[0m\u001b[0;34m=\u001b[0m\u001b[0;32mNone\u001b[0m\u001b[0;34m)\u001b[0m\u001b[0;34m:\u001b[0m\u001b[0;34m\u001b[0m\u001b[0;34m\u001b[0m\u001b[0m\n\u001b[0;32m--> 608\u001b[0;31m         \u001b[0mcursor\u001b[0m\u001b[0;34m.\u001b[0m\u001b[0mexecute\u001b[0m\u001b[0;34m(\u001b[0m\u001b[0mstatement\u001b[0m\u001b[0;34m,\u001b[0m \u001b[0mparameters\u001b[0m\u001b[0;34m)\u001b[0m\u001b[0;34m\u001b[0m\u001b[0;34m\u001b[0m\u001b[0m\n\u001b[0m\u001b[1;32m    609\u001b[0m \u001b[0;34m\u001b[0m\u001b[0m\n\u001b[1;32m    610\u001b[0m     \u001b[0;32mdef\u001b[0m \u001b[0mdo_execute_no_params\u001b[0m\u001b[0;34m(\u001b[0m\u001b[0mself\u001b[0m\u001b[0;34m,\u001b[0m \u001b[0mcursor\u001b[0m\u001b[0;34m,\u001b[0m \u001b[0mstatement\u001b[0m\u001b[0;34m,\u001b[0m \u001b[0mcontext\u001b[0m\u001b[0;34m=\u001b[0m\u001b[0;32mNone\u001b[0m\u001b[0;34m)\u001b[0m\u001b[0;34m:\u001b[0m\u001b[0;34m\u001b[0m\u001b[0;34m\u001b[0m\u001b[0m\n",
      "\u001b[0;31mIntegrityError\u001b[0m: (psycopg2.errors.ForeignKeyViolation) update or delete on table \"users\" violates foreign key constraint \"ids_user_uid_fkey\" on table \"ids\"\nDETAIL:  Key (id)=(1) is still referenced from table \"ids\".\n\n[SQL: DELETE FROM users]\n(Background on this error at: http://sqlalche.me/e/13/gkpj)"
     ]
    }
   ],
   "source": [
    "session.query(User).delete()"
   ]
  },
  {
   "cell_type": "code",
   "execution_count": 28,
   "id": "9db5e27f",
   "metadata": {
    "collapsed": false
   },
   "outputs": [],
   "source": [
    "session.delete(i)"
   ]
  },
  {
   "cell_type": "code",
   "execution_count": 29,
   "id": "2eefd85b",
   "metadata": {
    "collapsed": false
   },
   "outputs": [
    {
     "name": "stdout",
     "output_type": "stream",
     "text": [
      "2021-05-20 22:05:50,582 INFO sqlalchemy.engine.base.Engine BEGIN (implicit)\n"
     ]
    },
    {
     "name": "stdout",
     "output_type": "stream",
     "text": [
      "2021-05-20 22:05:50,584 INFO sqlalchemy.engine.base.Engine SELECT users.id AS users_id, users.name AS users_name \n",
      "FROM users \n",
      "WHERE users.id = %(param_1)s\n"
     ]
    },
    {
     "name": "stdout",
     "output_type": "stream",
     "text": [
      "2021-05-20 22:05:50,585 INFO sqlalchemy.engine.base.Engine {'param_1': 1}\n"
     ]
    },
    {
     "name": "stdout",
     "output_type": "stream",
     "text": [
      "2021-05-20 22:05:50,586 INFO sqlalchemy.engine.base.Engine SELECT ids.id AS ids_id, ids.value AS ids_value, ids.user_uid AS ids_user_uid \n",
      "FROM ids \n",
      "WHERE %(param_1)s = ids.user_uid\n"
     ]
    },
    {
     "name": "stdout",
     "output_type": "stream",
     "text": [
      "2021-05-20 22:05:50,587 INFO sqlalchemy.engine.base.Engine {'param_1': 1}\n"
     ]
    }
   ],
   "source": [
    "\n",
    "session.delete(u)\n",
    "\n",
    "\n"
   ]
  },
  {
   "cell_type": "code",
   "execution_count": 30,
   "id": "1bbee6ed",
   "metadata": {
    "collapsed": false
   },
   "outputs": [
    {
     "name": "stdout",
     "output_type": "stream",
     "text": [
      "2021-05-20 22:05:51,404 INFO sqlalchemy.engine.base.Engine SELECT ids.id AS ids_id, ids.value AS ids_value, ids.user_uid AS ids_user_uid \n",
      "FROM ids \n",
      "WHERE %(param_1)s = ids.user_uid\n"
     ]
    },
    {
     "name": "stdout",
     "output_type": "stream",
     "text": [
      "2021-05-20 22:05:51,405 INFO sqlalchemy.engine.base.Engine {'param_1': 1}\n"
     ]
    },
    {
     "name": "stdout",
     "output_type": "stream",
     "text": [
      "2021-05-20 22:05:51,407 INFO sqlalchemy.engine.base.Engine UPDATE ids SET user_uid=%(user_uid)s WHERE ids.id = %(ids_id)s\n"
     ]
    },
    {
     "name": "stdout",
     "output_type": "stream",
     "text": [
      "2021-05-20 22:05:51,408 INFO sqlalchemy.engine.base.Engine ({'user_uid': None, 'ids_id': 1}, {'user_uid': None, 'ids_id': 2})\n"
     ]
    },
    {
     "name": "stdout",
     "output_type": "stream",
     "text": [
      "2021-05-20 22:05:51,409 INFO sqlalchemy.engine.base.Engine DELETE FROM ids WHERE ids.id = %(id)s\n"
     ]
    },
    {
     "name": "stdout",
     "output_type": "stream",
     "text": [
      "2021-05-20 22:05:51,409 INFO sqlalchemy.engine.base.Engine ({'id': 1}, {'id': 2})\n"
     ]
    },
    {
     "name": "stdout",
     "output_type": "stream",
     "text": [
      "2021-05-20 22:05:51,410 INFO sqlalchemy.engine.base.Engine DELETE FROM users WHERE users.id = %(id)s\n"
     ]
    },
    {
     "name": "stdout",
     "output_type": "stream",
     "text": [
      "2021-05-20 22:05:51,410 INFO sqlalchemy.engine.base.Engine {'id': 1}\n"
     ]
    },
    {
     "name": "stdout",
     "output_type": "stream",
     "text": [
      "2021-05-20 22:05:51,411 INFO sqlalchemy.engine.base.Engine COMMIT\n"
     ]
    }
   ],
   "source": [
    "session.commit()"
   ]
  },
  {
   "cell_type": "code",
   "execution_count": 31,
   "id": "844f7ec4",
   "metadata": {
    "collapsed": false
   },
   "outputs": [
    {
     "name": "stdout",
     "output_type": "stream",
     "text": [
      "2021-05-20 22:05:53,461 INFO sqlalchemy.engine.base.Engine BEGIN (implicit)\n"
     ]
    },
    {
     "name": "stdout",
     "output_type": "stream",
     "text": [
      "2021-05-20 22:05:53,462 INFO sqlalchemy.engine.base.Engine SELECT ids.id AS ids_id, ids.value AS ids_value, ids.user_uid AS ids_user_uid \n",
      "FROM ids\n"
     ]
    },
    {
     "name": "stdout",
     "output_type": "stream",
     "text": [
      "2021-05-20 22:05:53,463 INFO sqlalchemy.engine.base.Engine {}\n"
     ]
    }
   ],
   "source": [
    "r = session.query(Identifier).all()"
   ]
  },
  {
   "cell_type": "code",
   "execution_count": 32,
   "id": "26af630e",
   "metadata": {
    "collapsed": false
   },
   "outputs": [
    {
     "data": {
      "text/plain": [
       "[]"
      ]
     },
     "execution_count": 32,
     "metadata": {},
     "output_type": "execute_result"
    }
   ],
   "source": [
    "r"
   ]
  },
  {
   "cell_type": "code",
   "execution_count": 33,
   "id": "a32e7001",
   "metadata": {
    "collapsed": false
   },
   "outputs": [
    {
     "name": "stdout",
     "output_type": "stream",
     "text": [
      "2021-05-20 22:06:01,198 INFO sqlalchemy.engine.base.Engine SELECT users.id AS users_id, users.name AS users_name \n",
      "FROM users\n"
     ]
    },
    {
     "name": "stdout",
     "output_type": "stream",
     "text": [
      "2021-05-20 22:06:01,199 INFO sqlalchemy.engine.base.Engine {}\n"
     ]
    },
    {
     "data": {
      "text/plain": [
       "[]"
      ]
     },
     "execution_count": 33,
     "metadata": {},
     "output_type": "execute_result"
    }
   ],
   "source": [
    "session.query(User).all()"
   ]
  },
  {
   "cell_type": "code",
   "execution_count": 33,
   "id": "f89319e0",
   "metadata": {
    "collapsed": false
   },
   "outputs": [],
   "source": [
    "session.flush()"
   ]
  },
  {
   "cell_type": "code",
   "execution_count": 33,
   "id": "352e6d73",
   "metadata": {
    "collapsed": false
   },
   "outputs": [
    {
     "name": "stdout",
     "output_type": "stream",
     "text": [
      "2021-05-20 20:24:02,052 INFO sqlalchemy.engine.base.Engine ROLLBACK\n"
     ]
    }
   ],
   "source": [
    "session.rollback()"
   ]
  },
  {
   "cell_type": "code",
   "execution_count": null,
   "id": "46d3cc1f",
   "metadata": {
    "collapsed": false
   },
   "outputs": [],
   "source": []
  }
 ],
 "metadata": {
  "kernelspec": {
   "argv": [
    "python",
    "-m",
    "ipykernel_launcher",
    "-f",
    "{connection_file}"
   ],
   "display_name": "Python 3",
   "env": null,
   "interrupt_mode": "signal",
   "language": "python",
   "metadata": null,
   "name": "python3"
  },
  "name": "sqlAlchemy.ipynb"
 },
 "nbformat": 4,
 "nbformat_minor": 5
}
