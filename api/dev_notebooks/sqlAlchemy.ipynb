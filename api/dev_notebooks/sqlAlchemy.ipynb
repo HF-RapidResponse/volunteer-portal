{
 "cells": [
  {
   "cell_type": "code",
   "execution_count": null,
   "id": "befd2b14",
   "metadata": {
    "collapsed": false
   },
   "outputs": [],
   "source": [
    "import sys\n",
    "sys.path.insert(1, '/api/')"
   ]
  },
  {
   "cell_type": "code",
   "execution_count": null,
   "id": "b519e615",
   "metadata": {
    "collapsed": false
   },
   "outputs": [],
   "source": [
    "from models.base import Base\n",
    "from sqlalchemy.orm import backref, column_property, relationship, synonym, validates, sessionmaker\n",
    "from sqlalchemy import Boolean\n",
    "from sqlalchemy_utils.functions import drop_database, create_database"
   ]
  },
  {
   "cell_type": "code",
   "execution_count": null,
   "id": "825353d8",
   "metadata": {
    "collapsed": false
   },
   "outputs": [],
   "source": [
    "from pydantic import EmailStr, EmailError"
   ]
  },
  {
   "cell_type": "code",
   "execution_count": null,
   "id": "7f050b68",
   "metadata": {
    "collapsed": false
   },
   "outputs": [],
   "source": [
    "EmailStr().validate(\"ddd\")"
   ]
  },
  {
   "cell_type": "code",
   "execution_count": null,
   "id": "dfb8c42c",
   "metadata": {
    "collapsed": false
   },
   "outputs": [],
   "source": [
    "import sqlalchemy\n",
    "from sqlalchemy import create_engine, ForeignKey\n",
    "url = 'postgresql://admin:password@db:5432/test'\n",
    "drop_database(url)\n",
    "\n"
   ]
  },
  {
   "cell_type": "code",
   "execution_count": null,
   "id": "87656eff",
   "metadata": {
    "collapsed": false
   },
   "outputs": [],
   "source": [
    "create_database(url)\n",
    "engine = create_engine(url, echo=True)"
   ]
  },
  {
   "cell_type": "code",
   "execution_count": null,
   "id": "cdcf4db7",
   "metadata": {
    "collapsed": false
   },
   "outputs": [],
   "source": [
    "from sqlalchemy import Column, Integer, String"
   ]
  },
  {
   "cell_type": "code",
   "execution_count": null,
   "id": "2d2cfbd0",
   "metadata": {
    "collapsed": false
   },
   "outputs": [],
   "source": [
    "# with cascade delete on identifier\n",
    "#deleting the identifier does nothing with cascae delete on Identifier user relation\n",
    "#deleting the user does not cascade to its related identifiers"
   ]
  },
  {
   "cell_type": "code",
   "execution_count": null,
   "id": "ec3576f8",
   "metadata": {
    "collapsed": false
   },
   "outputs": [],
   "source": [
    "# with cascade delete on user - deleting identifier does nothing\n",
    "# deleting user deletes the identifiers"
   ]
  },
  {
   "cell_type": "code",
   "execution_count": null,
   "id": "e9605e44",
   "metadata": {
    "collapsed": false
   },
   "outputs": [],
   "source": [
    "class Subscription(Base):\n",
    "    __tablename__ = 'subscriptions'\n",
    "\n",
    "    uuid = Column(UUID(as_uuid=True), primary_key=True,\n",
    "                  default=uuid4, unique=True, nullable=False)\n",
    "    identifier_uuid = Column(UUID(as_uuid=True), ForeignKey('personal_identifiers.uuid'),\n",
    "                             nullable=True)\n",
    "    identifier = relationship('PersonalIdentifier', foreign_keys=[identifier_uuid])\n",
    "    #account_uuid = relationship('PersonalIdentifier.account_uuid', foreign_keys=[PersonalIdentifier.account_uuid], cascade='delete')\n",
    "\n",
    "    # Type of thing being subscribed to\n",
    "    entity_type = Column(Enum(SubscriptionEntity), nullable=False)\n",
    "    entity_uuid = Column(UUID(as_uuid=True), nullable=True)\n"
   ]
  },
  {
   "cell_type": "code",
   "execution_count": null,
   "id": "286c30f9",
   "metadata": {
    "collapsed": false
   },
   "outputs": [],
   "source": [
    "class Identifier(Base):\n",
    "  __tablename__ = 'ids'\n",
    "\n",
    "  id = Column(Integer, primary_key=True)\n",
    "  value = Column(String)\n",
    "  verified = Column(Boolean, default=False, nullable=False)\n",
    "  user_uid = Column(Integer, ForeignKey('users.id'))\n",
    "  user = relationship('User', foreign_keys=[user_uid], backref='id2')\n",
    "\n",
    "  def verify(self):\n",
    "    self.verified = True"
   ]
  },
  {
   "cell_type": "code",
   "execution_count": null,
   "id": "b1cd1ab3",
   "metadata": {
    "collapsed": false
   },
   "outputs": [],
   "source": [
    "class User(Base):\n",
    "  __tablename__ = 'users'\n",
    "\n",
    "  id = Column(Integer, primary_key=True)\n",
    "  name = Column(String)\n",
    "  identifiers = relationship('Identifier', foreign_keys=[Identifier.user_uid], cascade='save-update, merge, delete')\n",
    "\n",
    "  def verify(self):\n",
    "    for i in self.identifiers:\n",
    "      i.verified = True"
   ]
  },
  {
   "cell_type": "code",
   "execution_count": null,
   "id": "00c5778a",
   "metadata": {
    "collapsed": false
   },
   "outputs": [],
   "source": [
    "Session = sessionmaker(binds={\n",
    "  Identifier:engine,\n",
    "  User:engine,})\n",
    "session = Session()"
   ]
  },
  {
   "cell_type": "code",
   "execution_count": null,
   "id": "932b59e1",
   "metadata": {
    "collapsed": false
   },
   "outputs": [],
   "source": [
    "Base.metadata.create_all(bind=engine)\n",
    "\n"
   ]
  },
  {
   "cell_type": "code",
   "execution_count": null,
   "id": "1953ab03",
   "metadata": {
    "collapsed": false
   },
   "outputs": [],
   "source": [
    "u = User(name=\"tuck\")"
   ]
  },
  {
   "cell_type": "code",
   "execution_count": null,
   "id": "5e87fcb6",
   "metadata": {
    "collapsed": false
   },
   "outputs": [],
   "source": [
    "i = Identifier(value=\"tucker@gmailc.om\")"
   ]
  },
  {
   "cell_type": "code",
   "execution_count": null,
   "id": "aa4adfa8",
   "metadata": {
    "collapsed": false
   },
   "outputs": [],
   "source": [
    "i.user"
   ]
  },
  {
   "cell_type": "code",
   "execution_count": null,
   "id": "1e03c5e7",
   "metadata": {
    "collapsed": false
   },
   "outputs": [],
   "source": [
    "session.add(u)\n",
    "session.commit()"
   ]
  },
  {
   "cell_type": "code",
   "execution_count": null,
   "id": "3196c718",
   "metadata": {
    "collapsed": false
   },
   "outputs": [],
   "source": [
    "session.add(i)\n",
    "session.commit()"
   ]
  },
  {
   "cell_type": "code",
   "execution_count": null,
   "id": "953563b2",
   "metadata": {
    "collapsed": false
   },
   "outputs": [],
   "source": [
    "i.verified"
   ]
  },
  {
   "cell_type": "code",
   "execution_count": null,
   "id": "1f604037",
   "metadata": {
    "collapsed": false
   },
   "outputs": [],
   "source": [
    "i.verify()"
   ]
  },
  {
   "cell_type": "code",
   "execution_count": null,
   "id": "75c999e7",
   "metadata": {
    "collapsed": false
   },
   "outputs": [],
   "source": [
    "i.verified"
   ]
  },
  {
   "cell_type": "code",
   "execution_count": null,
   "id": "5d07ddd2",
   "metadata": {
    "collapsed": false
   },
   "outputs": [],
   "source": [
    "session.commit()"
   ]
  },
  {
   "cell_type": "code",
   "execution_count": null,
   "id": "7648204b",
   "metadata": {
    "collapsed": false
   },
   "outputs": [],
   "source": [
    "session.query(Identifier).first().verified"
   ]
  },
  {
   "cell_type": "code",
   "execution_count": null,
   "id": "5e78ff72",
   "metadata": {
    "collapsed": false
   },
   "outputs": [],
   "source": [
    "i.user_uid = u.id"
   ]
  },
  {
   "cell_type": "code",
   "execution_count": null,
   "id": "20b4d323",
   "metadata": {
    "collapsed": false
   },
   "outputs": [],
   "source": [
    "i2 = Identifier(value=\"tucker2@gmail.com\")"
   ]
  },
  {
   "cell_type": "code",
   "execution_count": null,
   "id": "523b8fd2",
   "metadata": {
    "collapsed": false
   },
   "outputs": [],
   "source": [
    "i.user"
   ]
  },
  {
   "cell_type": "code",
   "execution_count": null,
   "id": "c2f9e944",
   "metadata": {
    "collapsed": false
   },
   "outputs": [],
   "source": [
    "i2.user_uid = u.id"
   ]
  },
  {
   "cell_type": "code",
   "execution_count": null,
   "id": "cf729bb1",
   "metadata": {
    "collapsed": false
   },
   "outputs": [],
   "source": [
    "session.add(i)"
   ]
  },
  {
   "cell_type": "code",
   "execution_count": null,
   "id": "fcca4311",
   "metadata": {
    "collapsed": false
   },
   "outputs": [],
   "source": [
    "session.add(i2)"
   ]
  },
  {
   "cell_type": "code",
   "execution_count": null,
   "id": "3f3ae4d2",
   "metadata": {
    "collapsed": false
   },
   "outputs": [],
   "source": [
    "session.commit()"
   ]
  },
  {
   "cell_type": "code",
   "execution_count": null,
   "id": "db27d0cf",
   "metadata": {
    "collapsed": false
   },
   "outputs": [],
   "source": [
    "u.identifiers[0].verif"
   ]
  },
  {
   "cell_type": "code",
   "execution_count": null,
   "id": "7ca15ad4",
   "metadata": {
    "collapsed": false
   },
   "outputs": [],
   "source": [
    "i.user"
   ]
  },
  {
   "cell_type": "code",
   "execution_count": null,
   "id": "24315481",
   "metadata": {
    "collapsed": false
   },
   "outputs": [],
   "source": [
    "i2.user"
   ]
  },
  {
   "cell_type": "code",
   "execution_count": null,
   "id": "897c87e2",
   "metadata": {
    "collapsed": false
   },
   "outputs": [],
   "source": [
    "u.identifiers"
   ]
  },
  {
   "cell_type": "code",
   "execution_count": null,
   "id": "2f6ee4b9",
   "metadata": {
    "collapsed": false
   },
   "outputs": [],
   "source": [
    "u.id2"
   ]
  },
  {
   "cell_type": "code",
   "execution_count": null,
   "id": "2fe62307",
   "metadata": {
    "collapsed": false
   },
   "outputs": [],
   "source": [
    "i.user_uid"
   ]
  },
  {
   "cell_type": "code",
   "execution_count": null,
   "id": "dbb5572b",
   "metadata": {
    "collapsed": false
   },
   "outputs": [],
   "source": [
    "i.user"
   ]
  },
  {
   "cell_type": "code",
   "execution_count": null,
   "id": "0986c46f",
   "metadata": {
    "collapsed": false
   },
   "outputs": [],
   "source": [
    "session.flush()\n",
    "session.commit()\n",
    "session.flush()"
   ]
  },
  {
   "cell_type": "code",
   "execution_count": null,
   "id": "73675b01",
   "metadata": {
    "collapsed": false
   },
   "outputs": [],
   "source": [
    "session.query(User).delete()"
   ]
  },
  {
   "cell_type": "code",
   "execution_count": null,
   "id": "ef19383d",
   "metadata": {
    "collapsed": false
   },
   "outputs": [],
   "source": [
    "session.delete(i)"
   ]
  },
  {
   "cell_type": "code",
   "execution_count": null,
   "id": "06e92b39",
   "metadata": {
    "collapsed": false
   },
   "outputs": [],
   "source": [
    "\n",
    "session.delete(u)\n",
    "\n",
    "\n"
   ]
  },
  {
   "cell_type": "code",
   "execution_count": null,
   "id": "04078f46",
   "metadata": {
    "collapsed": false
   },
   "outputs": [],
   "source": [
    "session.commit()"
   ]
  },
  {
   "cell_type": "code",
   "execution_count": null,
   "id": "57ba11c5",
   "metadata": {
    "collapsed": false
   },
   "outputs": [],
   "source": [
    "r = session.query(Identifier).all()"
   ]
  },
  {
   "cell_type": "code",
   "execution_count": null,
   "id": "e11a090f",
   "metadata": {
    "collapsed": false
   },
   "outputs": [],
   "source": [
    "r"
   ]
  },
  {
   "cell_type": "code",
   "execution_count": null,
   "id": "653de3ff",
   "metadata": {
    "collapsed": false
   },
   "outputs": [],
   "source": [
    "session.query(User).all()"
   ]
  },
  {
   "cell_type": "code",
   "execution_count": null,
   "id": "d9524178",
   "metadata": {
    "collapsed": false
   },
   "outputs": [],
   "source": [
    "session.flush()"
   ]
  },
  {
   "cell_type": "code",
   "execution_count": null,
   "id": "d3becb9e",
   "metadata": {
    "collapsed": false
   },
   "outputs": [],
   "source": [
    "session.rollback()"
   ]
  },
  {
   "cell_type": "code",
   "execution_count": null,
   "id": "a1ac51bc",
   "metadata": {
    "collapsed": false
   },
   "outputs": [],
   "source": []
  }
 ],
 "metadata": {
  "kernelspec": {
   "argv": [
    "python",
    "-m",
    "ipykernel_launcher",
    "-f",
    "{connection_file}"
   ],
   "display_name": "Python 3",
   "env": null,
   "interrupt_mode": "signal",
   "language": "python",
   "metadata": null,
   "name": "python3"
  },
  "name": "sqlAlchemy.ipynb"
 },
 "nbformat": 4,
 "nbformat_minor": 5
}
